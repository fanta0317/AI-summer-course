{
  "nbformat": 4,
  "nbformat_minor": 0,
  "metadata": {
    "colab": {
      "provenance": [],
      "authorship_tag": "ABX9TyObyKBkzPA3aDDjd970hEzi",
      "include_colab_link": true
    },
    "kernelspec": {
      "name": "python3",
      "display_name": "Python 3"
    },
    "language_info": {
      "name": "python"
    }
  },
  "cells": [
    {
      "cell_type": "markdown",
      "metadata": {
        "id": "view-in-github",
        "colab_type": "text"
      },
      "source": [
        "<a href=\"https://colab.research.google.com/github/fanta0317/AI-summer-course/blob/main/20230704%E6%B7%A1%E6%B1%9F%E5%A4%A7%E5%AD%B8(week1day2).ipynb\" target=\"_parent\"><img src=\"https://colab.research.google.com/assets/colab-badge.svg\" alt=\"Open In Colab\"/></a>"
      ]
    },
    {
      "cell_type": "code",
      "execution_count": null,
      "metadata": {
        "colab": {
          "base_uri": "https://localhost:8080/"
        },
        "id": "EjKlH0OsfOmq",
        "outputId": "1ba9382b-4cdf-4361-af32-b2fbf67335af"
      },
      "outputs": [
        {
          "output_type": "stream",
          "name": "stdout",
          "text": [
            "<class 'numpy.ndarray'>\n",
            "int64\n",
            "1\n",
            "3\n",
            "(3,)\n",
            "(3, 1)\n",
            "[[1]\n",
            " [3]\n",
            " [4]]\n",
            "[[1 3 4]]\n",
            "(3,)\n"
          ]
        }
      ],
      "source": [
        "import numpy as np\n",
        "A=np.array([1,3,4])\n",
        "print(type(A))\n",
        "print(A.dtype)\n",
        "print(A.ndim)\n",
        "print(A.size)\n",
        "print(A.shape)\n",
        "print(A.reshape((-1,1)).shape)\n",
        "print(A.reshape((-1,1)))\n",
        "print(A.reshape((-1,3)))\n",
        "print(A.shape)"
      ]
    },
    {
      "cell_type": "code",
      "source": [
        "print(A.reshape((-99,3)))\n",
        "print(A.shape)"
      ],
      "metadata": {
        "colab": {
          "base_uri": "https://localhost:8080/"
        },
        "id": "BrNbLXuAstfm",
        "outputId": "dc4882d0-9b97-46bd-8876-b989b3dd1ace"
      },
      "execution_count": null,
      "outputs": [
        {
          "output_type": "stream",
          "name": "stdout",
          "text": [
            "[[1 3 4]]\n",
            "(3,)\n"
          ]
        }
      ]
    },
    {
      "cell_type": "code",
      "source": [
        "print(A.reshape((1,-1)))"
      ],
      "metadata": {
        "colab": {
          "base_uri": "https://localhost:8080/"
        },
        "id": "-73Od8bjvVRS",
        "outputId": "e79e16ee-f00b-4b75-d49e-9960b01192ec"
      },
      "execution_count": null,
      "outputs": [
        {
          "output_type": "stream",
          "name": "stdout",
          "text": [
            "[[1 3 4]]\n"
          ]
        }
      ]
    },
    {
      "cell_type": "code",
      "source": [
        "CA=A.reshape((-1,1))\n",
        "print(A.shape)\n",
        "print(CA.shape)\n",
        "print(A)\n",
        "print(CA)\n",
        "print(CA.T)\n"
      ],
      "metadata": {
        "colab": {
          "base_uri": "https://localhost:8080/"
        },
        "id": "eerRoBO7wojw",
        "outputId": "fae04c44-47b3-4c1a-9851-5b5201908991"
      },
      "execution_count": null,
      "outputs": [
        {
          "output_type": "stream",
          "name": "stdout",
          "text": [
            "(3,)\n",
            "(3, 1)\n",
            "[1 3 4]\n",
            "[[1]\n",
            " [3]\n",
            " [4]]\n",
            "[[1 3 4]]\n"
          ]
        }
      ]
    },
    {
      "cell_type": "code",
      "source": [
        "print(np.random.randint(0,10,(3,4)))"
      ],
      "metadata": {
        "id": "xPBVaDpKxnhj",
        "colab": {
          "base_uri": "https://localhost:8080/"
        },
        "outputId": "1858dbd1-a828-484a-c990-e4a2119e4ead"
      },
      "execution_count": null,
      "outputs": [
        {
          "output_type": "stream",
          "name": "stdout",
          "text": [
            "[[9 0 4 9]\n",
            " [4 8 0 3]\n",
            " [1 4 0 8]]\n"
          ]
        }
      ]
    },
    {
      "cell_type": "code",
      "source": [
        "R=(np.random.randint(1,10,(3,4)))\n",
        "print(R)\n",
        "print(np.min(R))\n",
        "print(np.argmin(R))"
      ],
      "metadata": {
        "colab": {
          "base_uri": "https://localhost:8080/"
        },
        "id": "RgiYgTRT7kSi",
        "outputId": "7b045c9c-ac01-4ca4-ae3a-10004358a0d7"
      },
      "execution_count": null,
      "outputs": [
        {
          "output_type": "stream",
          "name": "stdout",
          "text": [
            "[[1 2 8 7]\n",
            " [4 6 3 9]\n",
            " [9 7 1 1]]\n",
            "1\n",
            "0\n"
          ]
        }
      ]
    },
    {
      "cell_type": "code",
      "source": [
        "R=(np.random.randint(0,10,(3,4)))\n",
        "print(R)\n",
        "print(\"max =\",np.max(R))\n",
        "print(\"max in \",np.argmax(R))\n",
        "print(np.sort(R,axis=0))#直的排序\n",
        "print(np.sort(R,axis=1))#橫的排序\n",
        "print(np.sort(R))#預設-->橫的排序"
      ],
      "metadata": {
        "colab": {
          "base_uri": "https://localhost:8080/"
        },
        "id": "c5u1DW3j745-",
        "outputId": "a0e86323-4fa0-44a6-8273-b7822abc26f7"
      },
      "execution_count": null,
      "outputs": [
        {
          "output_type": "stream",
          "name": "stdout",
          "text": [
            "[[0 6 2 8]\n",
            " [4 0 8 5]\n",
            " [6 0 4 0]]\n",
            "max = 8\n",
            "max in  3\n",
            "[[0 0 2 0]\n",
            " [4 0 4 5]\n",
            " [6 6 8 8]]\n",
            "[[0 2 6 8]\n",
            " [0 4 5 8]\n",
            " [0 0 4 6]]\n",
            "[[0 2 6 8]\n",
            " [0 4 5 8]\n",
            " [0 0 4 6]]\n"
          ]
        }
      ]
    },
    {
      "cell_type": "code",
      "source": [
        "print(np.arange(1,13))"
      ],
      "metadata": {
        "colab": {
          "base_uri": "https://localhost:8080/"
        },
        "id": "jx1mTbqK9MKY",
        "outputId": "0384bb0d-71d7-4129-ce0b-abae741e3ec7"
      },
      "execution_count": null,
      "outputs": [
        {
          "output_type": "stream",
          "name": "stdout",
          "text": [
            "[ 1  2  3  4  5  6  7  8  9 10 11 12]\n"
          ]
        }
      ]
    },
    {
      "cell_type": "code",
      "source": [
        "from numpy.core.fromnumeric import shape\n",
        "AA=(np.arange(1,13))\n",
        "print(AA)#生成1~12\n",
        "print(AA.reshape((3,4)))#將AA塞入3*4矩陣\n",
        "\n",
        "print(AA)#AA本質不變\n",
        "AA.resize((3,4))#等於AA=AA.reshape((3,4))\n",
        "print(AA)\n",
        "print(AA.flatten())#攤開\n",
        "AA=AA.flatten()\n",
        "print(AA.shape)"
      ],
      "metadata": {
        "colab": {
          "base_uri": "https://localhost:8080/"
        },
        "id": "etk9EzH-_AdD",
        "outputId": "9316942b-db7b-4e10-fc8b-51b0a2b156c2"
      },
      "execution_count": null,
      "outputs": [
        {
          "output_type": "stream",
          "name": "stdout",
          "text": [
            "[ 1  2  3  4  5  6  7  8  9 10 11 12]\n",
            "[[ 1  2  3  4]\n",
            " [ 5  6  7  8]\n",
            " [ 9 10 11 12]]\n",
            "[ 1  2  3  4  5  6  7  8  9 10 11 12]\n",
            "[[ 1  2  3  4]\n",
            " [ 5  6  7  8]\n",
            " [ 9 10 11 12]]\n",
            "[ 1  2  3  4  5  6  7  8  9 10 11 12]\n",
            "(12,)\n"
          ]
        }
      ]
    },
    {
      "cell_type": "code",
      "source": [
        "AB=(np.random.randint(1,12,(3,4)))\n",
        "print(AB)"
      ],
      "metadata": {
        "colab": {
          "base_uri": "https://localhost:8080/"
        },
        "id": "zT1wxMmY_U0q",
        "outputId": "bf8e8626-3e94-4363-e56f-5293919d438e"
      },
      "execution_count": null,
      "outputs": [
        {
          "output_type": "stream",
          "name": "stdout",
          "text": [
            "[[ 6  5  6  7]\n",
            " [ 5 10  9 10]\n",
            " [ 5  4 10  5]]\n"
          ]
        }
      ]
    },
    {
      "cell_type": "code",
      "source": [
        "import numpy as np\n",
        "def arrag_info(arr):\n",
        "  print(\"size =\",arr.size)\n",
        "  print(\"shape =\",arr.shape)\n",
        "  print(\"dim =\",arr.ndim)\n",
        "  print(\"flatten =\",arr.flatten())\n",
        "#AC=0\n",
        "AC=np.array(input())\n",
        "arrag_info(AC)"
      ],
      "metadata": {
        "colab": {
          "base_uri": "https://localhost:8080/"
        },
        "id": "IYXk5RZ4_nS-",
        "outputId": "6f7cf5de-682e-4c39-bf13-7117fd29ce4d"
      },
      "execution_count": null,
      "outputs": [
        {
          "output_type": "stream",
          "name": "stdout",
          "text": [
            "[[0 6 2 8]  [4 0 8 5]  [6 0 4 0]]\n",
            "size = 1\n",
            "shape = ()\n",
            "dim = 0\n",
            "flatten = ['[[0 6 2 8]  [4 0 8 5]  [6 0 4 0]]']\n"
          ]
        }
      ]
    },
    {
      "cell_type": "code",
      "source": [
        "import numpy as np\n",
        "def array_info(arr):\n",
        "  size = arr.size\n",
        "  shape = arr.shape\n",
        "  dim = arr.ndim\n",
        "  fla =arr.flatten()\n",
        "  return size,shape,dim,fla\n",
        "arr=(np.random.randint(1,12,(3,4)))\n",
        "#print(arr)\n",
        "#AC=0\n",
        "#AC=np.array(input())\n",
        "#arrag_info(AC)\n",
        "for i in range (4):\n",
        "  print(array_info(arr)[i])"
      ],
      "metadata": {
        "colab": {
          "base_uri": "https://localhost:8080/"
        },
        "id": "lBXM4fUMbXME",
        "outputId": "267f31a9-14b5-4e8d-cddb-dc342f1cf6ec"
      },
      "execution_count": null,
      "outputs": [
        {
          "output_type": "stream",
          "name": "stdout",
          "text": [
            "12\n",
            "(3, 4)\n",
            "2\n",
            "[ 5  7 10  1  8  6  2  1  1  9  6  3]\n"
          ]
        }
      ]
    },
    {
      "cell_type": "code",
      "source": [
        "print(AB)\n",
        "BA=AB[:,1]\n",
        "print(BA)\n",
        "print(BA.shape)\n",
        "print(AB[0][0])#預設為row\n",
        "y=-1\n",
        "x=-1\n",
        "for i in range(3):\n",
        "\n",
        "  y=y+1\n",
        "  for j in range(4):\n",
        "\n",
        "    x=x+1\n",
        "    print(AB[x][y])\n"
      ],
      "metadata": {
        "colab": {
          "base_uri": "https://localhost:8080/"
        },
        "id": "CRrTd1FveoNH",
        "outputId": "5df63497-638f-4ff6-df64-f4581aceecc8"
      },
      "execution_count": null,
      "outputs": [
        {
          "output_type": "stream",
          "name": "stdout",
          "text": [
            "[[ 6  5  6  7]\n",
            " [ 5 10  9 10]\n",
            " [ 5  4 10  5]]\n",
            "[ 5 10  4]\n",
            "(3,)\n",
            "6\n",
            "6\n",
            "5\n",
            "5\n",
            "5\n",
            "10\n",
            "4\n",
            "6\n",
            "9\n",
            "10\n",
            "7\n",
            "10\n",
            "5\n"
          ]
        }
      ]
    },
    {
      "cell_type": "code",
      "source": [
        "print(AB)\n",
        "BA=AB[:,1]\n",
        "print(BA)\n",
        "print(BA.shape)\n",
        "print(AB[0][0])#預設為row\n",
        "print(AB[0:2,1:3])"
      ],
      "metadata": {
        "colab": {
          "base_uri": "https://localhost:8080/"
        },
        "id": "fBSPUjeTlKlu",
        "outputId": "ce00cc2f-a8f1-4871-ba51-aaf8a1915962"
      },
      "execution_count": null,
      "outputs": [
        {
          "output_type": "stream",
          "name": "stdout",
          "text": [
            "[[ 6  5  6  7]\n",
            " [ 5 10  9 10]\n",
            " [ 5  4 10  5]]\n",
            "[ 5 10  4]\n",
            "(3,)\n",
            "6\n",
            "[[ 5  6]\n",
            " [10  9]]\n"
          ]
        }
      ]
    },
    {
      "cell_type": "code",
      "source": [
        "from google.colab import drive\n",
        "drive.mount('/content/drive')"
      ],
      "metadata": {
        "id": "WiTTyP682UnF"
      },
      "execution_count": null,
      "outputs": []
    },
    {
      "cell_type": "code",
      "source": [
        "import pandas as pd\n",
        "data = pd.read_csv(\"clean.csv\")\n",
        "print(data)\n",
        "data=data.to_numpy()\n",
        "print(type(data))"
      ],
      "metadata": {
        "colab": {
          "base_uri": "https://localhost:8080/"
        },
        "id": "T1Ckpfq0epTw",
        "outputId": "a1fd1a11-0a52-49ab-fd0b-46150fbc5552"
      },
      "execution_count": null,
      "outputs": [
        {
          "output_type": "stream",
          "name": "stdout",
          "text": [
            "     A1  A2  A3  S1  S2  S3  D1  D2     D3\n",
            "0     2   4   4   4   4   4   4   4    NaN\n",
            "1     1   5   4   5   5   5   5   5    NaN\n",
            "2     2   3   3   3   5   5   4   4    NaN\n",
            "3     2   5   4   4   4   4   4   1  999.0\n",
            "4     2   3   3   4   5   5   4   5  999.0\n",
            "..   ..  ..  ..  ..  ..  ..  ..  ..    ...\n",
            "345   1   4   4   5   4   4   4   4    4.0\n",
            "346   1   4   4   5   5   5   4   3    3.0\n",
            "347   3   2   2   3   3   2   5   4    2.0\n",
            "348   3   4   4   3   3   3   4   5    5.0\n",
            "349   2   3   3   3   2   2   3   3    3.0\n",
            "\n",
            "[350 rows x 9 columns]\n",
            "<class 'numpy.ndarray'>\n"
          ]
        }
      ]
    },
    {
      "cell_type": "code",
      "source": [],
      "metadata": {
        "id": "_MxUamG-4GFc"
      },
      "execution_count": null,
      "outputs": []
    }
  ]
}