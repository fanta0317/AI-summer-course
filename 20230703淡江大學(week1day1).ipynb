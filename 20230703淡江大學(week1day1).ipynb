{
  "nbformat": 4,
  "nbformat_minor": 0,
  "metadata": {
    "colab": {
      "provenance": [],
      "include_colab_link": true
    },
    "kernelspec": {
      "name": "python3",
      "display_name": "Python 3"
    },
    "language_info": {
      "name": "python"
    }
  },
  "cells": [
    {
      "cell_type": "markdown",
      "metadata": {
        "id": "view-in-github",
        "colab_type": "text"
      },
      "source": [
        "<a href=\"https://colab.research.google.com/github/fanta0317/AI-summer-course/blob/main/20230703%E6%B7%A1%E6%B1%9F%E5%A4%A7%E5%AD%B8(week1day1).ipynb\" target=\"_parent\"><img src=\"https://colab.research.google.com/assets/colab-badge.svg\" alt=\"Open In Colab\"/></a>"
      ]
    },
    {
      "cell_type": "code",
      "execution_count": null,
      "metadata": {
        "colab": {
          "base_uri": "https://localhost:8080/"
        },
        "id": "R4t9BqycTVgA",
        "outputId": "b542fb86-ea76-4f04-e909-3ee960944d8d"
      },
      "outputs": [
        {
          "output_type": "stream",
          "name": "stdout",
          "text": [
            "hello world\n"
          ]
        }
      ],
      "source": [
        "print(\"hello world\")"
      ]
    },
    {
      "cell_type": "code",
      "source": [
        "A=[1,2,3,4,5,6]\n",
        "print(A)\n",
        "print(sum(A))\n",
        "print(A[0])\n",
        "print(A[3])\n",
        "print(A[0:3])\n",
        "print(len(A))\n",
        "print(\"min =\",min(A))\n",
        "print(\"max =\",max(A))\n",
        "print(\"平均 =\",sum(A)/len(A))\n",
        "\n",
        "import statistics\n",
        "average= statistics.mean(A)\n",
        "print(\"平均 =\",average)\n",
        "\n",
        "from statistics import mean\n",
        "average= statistics.mean(A)\n",
        "print(\"平均 =\",average)"
      ],
      "metadata": {
        "colab": {
          "base_uri": "https://localhost:8080/"
        },
        "id": "UjsPfAqUTvEe",
        "outputId": "5a26c155-8cbe-4b4a-c3d4-92f40071d817"
      },
      "execution_count": null,
      "outputs": [
        {
          "output_type": "stream",
          "name": "stdout",
          "text": [
            "[1, 2, 3, 4, 5, 6]\n",
            "21\n",
            "1\n",
            "4\n",
            "[1, 2, 3]\n",
            "6\n",
            "min = 1\n",
            "max = 6\n",
            "平均 = 3.5\n",
            "平均 = 3.5\n",
            "平均 = 3.5\n"
          ]
        }
      ]
    },
    {
      "cell_type": "code",
      "source": [
        "B=[5,2,6,8,4,9,7,1,3]\n",
        "print(sorted(B))"
      ],
      "metadata": {
        "colab": {
          "base_uri": "https://localhost:8080/"
        },
        "id": "9M7ThgK4VR2l",
        "outputId": "31ce52e1-f897-4d3e-afee-7a411c478eec"
      },
      "execution_count": null,
      "outputs": [
        {
          "output_type": "stream",
          "name": "stdout",
          "text": [
            "[1, 2, 3, 4, 5, 6, 7, 8, 9]\n"
          ]
        }
      ]
    },
    {
      "cell_type": "code",
      "source": [
        "B=[5,2,6,8,4,9,7,1,3]\n",
        "print(B)\n",
        "B=sorted(B)\n",
        "print(B)"
      ],
      "metadata": {
        "colab": {
          "base_uri": "https://localhost:8080/"
        },
        "id": "vvyIlf2wbvIU",
        "outputId": "680ef5c7-b812-4e35-fd22-1d87d60d2164"
      },
      "execution_count": null,
      "outputs": [
        {
          "output_type": "stream",
          "name": "stdout",
          "text": [
            "[5, 2, 6, 8, 4, 9, 7, 1, 3]\n",
            "[1, 2, 3, 4, 5, 6, 7, 8, 9]\n"
          ]
        }
      ]
    },
    {
      "cell_type": "code",
      "source": [
        "X=[5.6262626245454545,865.41328789451]\n",
        "print(round(X[0],2))"
      ],
      "metadata": {
        "colab": {
          "base_uri": "https://localhost:8080/"
        },
        "id": "zVOyVEB7eYyK",
        "outputId": "7857fe1d-4a90-49ec-e765-1b23f1546f97"
      },
      "execution_count": null,
      "outputs": [
        {
          "output_type": "stream",
          "name": "stdout",
          "text": [
            "5.63\n"
          ]
        }
      ]
    },
    {
      "cell_type": "code",
      "source": [
        "Y=[-1,222]\n",
        "print(abs(Y[0]))"
      ],
      "metadata": {
        "colab": {
          "base_uri": "https://localhost:8080/"
        },
        "id": "6uu5noJDeqEz",
        "outputId": "c8a6f620-14c7-4385-9a7a-0d38a131aa5e"
      },
      "execution_count": null,
      "outputs": [
        {
          "output_type": "stream",
          "name": "stdout",
          "text": [
            "1\n"
          ]
        }
      ]
    },
    {
      "cell_type": "code",
      "source": [
        "Y=[-1,-222,-888,-958745,-98,-22]\n",
        "n=len(Y)\n",
        "i=0\n",
        "x=0\n",
        "for i in range(n):\n",
        "  print(abs(Y[x]))\n",
        "  x=x+1\n"
      ],
      "metadata": {
        "colab": {
          "base_uri": "https://localhost:8080/",
          "height": 237
        },
        "id": "DjPCD-VwfdHT",
        "outputId": "47e4c5ed-f8fa-4115-adbc-05d3e043eecb"
      },
      "execution_count": null,
      "outputs": [
        {
          "output_type": "error",
          "ename": "IndexError",
          "evalue": "ignored",
          "traceback": [
            "\u001b[0;31m---------------------------------------------------------------------------\u001b[0m",
            "\u001b[0;31mIndexError\u001b[0m                                Traceback (most recent call last)",
            "\u001b[0;32m<ipython-input-34-d1dfc2eb8614>\u001b[0m in \u001b[0;36m<cell line: 6>\u001b[0;34m()\u001b[0m\n\u001b[1;32m      5\u001b[0m \u001b[0mx\u001b[0m\u001b[0;34m=\u001b[0m\u001b[0;36m0\u001b[0m\u001b[0;34m\u001b[0m\u001b[0;34m\u001b[0m\u001b[0m\n\u001b[1;32m      6\u001b[0m \u001b[0;32mfor\u001b[0m \u001b[0mi\u001b[0m \u001b[0;32min\u001b[0m \u001b[0mrange\u001b[0m\u001b[0;34m(\u001b[0m\u001b[0mn\u001b[0m\u001b[0;34m)\u001b[0m\u001b[0;34m:\u001b[0m\u001b[0;34m\u001b[0m\u001b[0;34m\u001b[0m\u001b[0m\n\u001b[0;32m----> 7\u001b[0;31m   \u001b[0mZ\u001b[0m\u001b[0;34m[\u001b[0m\u001b[0mx\u001b[0m\u001b[0;34m]\u001b[0m\u001b[0;34m=\u001b[0m\u001b[0mabs\u001b[0m\u001b[0;34m(\u001b[0m\u001b[0mY\u001b[0m\u001b[0;34m[\u001b[0m\u001b[0mx\u001b[0m\u001b[0;34m]\u001b[0m\u001b[0;34m)\u001b[0m\u001b[0;34m\u001b[0m\u001b[0;34m\u001b[0m\u001b[0m\n\u001b[0m\u001b[1;32m      8\u001b[0m   \u001b[0mx\u001b[0m\u001b[0;34m=\u001b[0m\u001b[0mx\u001b[0m\u001b[0;34m+\u001b[0m\u001b[0;36m1\u001b[0m\u001b[0;34m\u001b[0m\u001b[0;34m\u001b[0m\u001b[0m\n\u001b[1;32m      9\u001b[0m \u001b[0mprint\u001b[0m\u001b[0;34m(\u001b[0m\u001b[0mZ\u001b[0m\u001b[0;34m)\u001b[0m\u001b[0;34m\u001b[0m\u001b[0;34m\u001b[0m\u001b[0m\n",
            "\u001b[0;31mIndexError\u001b[0m: list assignment index out of range"
          ]
        }
      ]
    },
    {
      "cell_type": "code",
      "source": [
        "r_number = map(abs, Y)\n",
        "r_number=list(r_number)\n",
        "print(r_number)"
      ],
      "metadata": {
        "colab": {
          "base_uri": "https://localhost:8080/"
        },
        "id": "tM704FspgP80",
        "outputId": "307e76fd-32c0-45db-b412-f321bfffbacb"
      },
      "execution_count": null,
      "outputs": [
        {
          "output_type": "stream",
          "name": "stdout",
          "text": [
            "[1, 222, 888, 958745, 98, 22]\n"
          ]
        }
      ]
    },
    {
      "cell_type": "code",
      "source": [
        "r_number = map(round, X)\n",
        "r_number=list(r_number)\n",
        "print(r_number)"
      ],
      "metadata": {
        "colab": {
          "base_uri": "https://localhost:8080/"
        },
        "id": "TKLT3paEglpT",
        "outputId": "9d81bce9-73ff-4d9a-de82-e3dbfc77b3ac"
      },
      "execution_count": null,
      "outputs": [
        {
          "output_type": "stream",
          "name": "stdout",
          "text": [
            "[6, 86541328789451]\n"
          ]
        }
      ]
    },
    {
      "cell_type": "code",
      "source": [
        "def r_hund(num):\n",
        "  return round(num, 2)"
      ],
      "metadata": {
        "id": "iLL51kTlh6Z8"
      },
      "execution_count": null,
      "outputs": []
    },
    {
      "cell_type": "code",
      "source": [
        "X=[5.6262626245454545,865.41328789451]\n",
        "##print(round(X[0],2))\n",
        "r_number = list(map(r_hund, X))\n",
        "r_number=list(r_number)\n",
        "print(r_number)"
      ],
      "metadata": {
        "colab": {
          "base_uri": "https://localhost:8080/"
        },
        "id": "dfTbsdC6ipNK",
        "outputId": "97ed20bd-7717-474d-d204-7b231820a5d6"
      },
      "execution_count": null,
      "outputs": [
        {
          "output_type": "stream",
          "name": "stdout",
          "text": [
            "[5.63, 865.41]\n"
          ]
        }
      ]
    },
    {
      "cell_type": "code",
      "source": [
        "a=[1,2,3]\n",
        "b=[\"John\",\"Mary\",\"Josh\"]\n",
        "c=[\"C1\",\"C2\",\"C3\"]\n",
        "print(a,\"\\n\",b,\"\\n\",c)\n",
        "D=zip(a,b,c)\n",
        "print(list(D))"
      ],
      "metadata": {
        "colab": {
          "base_uri": "https://localhost:8080/"
        },
        "id": "TlYurn_Ci4gT",
        "outputId": "072c8364-d073-4efa-ea3e-1ef2c0f81916"
      },
      "execution_count": null,
      "outputs": [
        {
          "output_type": "stream",
          "name": "stdout",
          "text": [
            "[1, 2, 3] \n",
            " ['John', 'Mary', 'Josh'] \n",
            " ['C1', 'C2', 'C3']\n",
            "[(1, 'John', 'C1'), (2, 'Mary', 'C2'), (3, 'Josh', 'C3')]\n"
          ]
        }
      ]
    },
    {
      "cell_type": "code",
      "source": [
        "print(a)"
      ],
      "metadata": {
        "colab": {
          "base_uri": "https://localhost:8080/"
        },
        "id": "1EJSdchcoc4y",
        "outputId": "ea74b62d-1d3b-483d-ba8c-e92591b50647"
      },
      "execution_count": null,
      "outputs": [
        {
          "output_type": "stream",
          "name": "stdout",
          "text": [
            "[1, 2, 3]\n"
          ]
        }
      ]
    },
    {
      "cell_type": "code",
      "source": [
        "import sys\n",
        "locals().clear()"
      ],
      "metadata": {
        "id": "BgHNTYTbpd8R"
      },
      "execution_count": null,
      "outputs": []
    },
    {
      "cell_type": "code",
      "source": [
        "people=[\"A\",\"B\",\"C\",\"D\"]\n",
        "for i in people:\n",
        "  print(i,end=\" \")\n"
      ],
      "metadata": {
        "colab": {
          "base_uri": "https://localhost:8080/"
        },
        "id": "PRDE6K84qbNI",
        "outputId": "6dbea86d-a62a-46ab-fabc-5c2c55ef52e8"
      },
      "execution_count": null,
      "outputs": [
        {
          "output_type": "stream",
          "name": "stdout",
          "text": [
            "A B C D "
          ]
        }
      ]
    },
    {
      "cell_type": "code",
      "source": [
        "x=range(1,5)\n",
        "for i in x:\n",
        "  print(i)"
      ],
      "metadata": {
        "colab": {
          "base_uri": "https://localhost:8080/"
        },
        "id": "aMCjj1Moqwgi",
        "outputId": "29b14776-6e54-4b06-ebba-577f93213280"
      },
      "execution_count": null,
      "outputs": [
        {
          "output_type": "stream",
          "name": "stdout",
          "text": [
            "1\n",
            "2\n",
            "3\n",
            "4\n"
          ]
        }
      ]
    },
    {
      "cell_type": "code",
      "source": [
        "x=0\n",
        "sum=0\n",
        "for i in range(100):\n",
        "  x=x+1\n",
        "  sum=sum+x\n",
        "print(sum)"
      ],
      "metadata": {
        "colab": {
          "base_uri": "https://localhost:8080/"
        },
        "id": "4AlozY9drZIR",
        "outputId": "e1bc937b-148c-4b97-c638-74579f53c3c4"
      },
      "execution_count": null,
      "outputs": [
        {
          "output_type": "stream",
          "name": "stdout",
          "text": [
            "5050\n"
          ]
        }
      ]
    },
    {
      "cell_type": "code",
      "source": [
        "my_list=[1,2,3,4]\n",
        "print(my_list)\n",
        "a=int(input())\n",
        "my_list.append(a)\n",
        "print(my_list)\n",
        "my_list=sorted(my_list)\n",
        "print(my_list)"
      ],
      "metadata": {
        "colab": {
          "base_uri": "https://localhost:8080/"
        },
        "id": "4L6Ei6j8r8NB",
        "outputId": "3813d0f8-d18e-4e45-d1a5-9346e243d3b5"
      },
      "execution_count": null,
      "outputs": [
        {
          "output_type": "stream",
          "name": "stdout",
          "text": [
            "[1, 2, 3, 4]\n",
            "0\n",
            "[1, 2, 3, 4, 0]\n",
            "[0, 1, 2, 3, 4]\n"
          ]
        }
      ]
    },
    {
      "cell_type": "code",
      "source": [
        "c_sum=[]\n",
        "for i in range(1,11):\n",
        "  c_sum.append(i)\n",
        "  print(c_sum)"
      ],
      "metadata": {
        "colab": {
          "base_uri": "https://localhost:8080/"
        },
        "id": "ObcOFHKctmKw",
        "outputId": "275bc6f0-8c57-42ab-ef2d-51e9d9f0fe99"
      },
      "execution_count": null,
      "outputs": [
        {
          "output_type": "stream",
          "name": "stdout",
          "text": [
            "[1]\n",
            "[1, 2]\n",
            "[1, 2, 3]\n",
            "[1, 2, 3, 4]\n",
            "[1, 2, 3, 4, 5]\n",
            "[1, 2, 3, 4, 5, 6]\n",
            "[1, 2, 3, 4, 5, 6, 7]\n",
            "[1, 2, 3, 4, 5, 6, 7, 8]\n",
            "[1, 2, 3, 4, 5, 6, 7, 8, 9]\n",
            "[1, 2, 3, 4, 5, 6, 7, 8, 9, 10]\n"
          ]
        }
      ]
    },
    {
      "cell_type": "code",
      "source": [
        "a=int(input())\n",
        "check=0\n",
        "for i in range(a):\n",
        "  check=0\n",
        "  for j in range(1,a+1):\n",
        "    if (check!=a-1):\n",
        "      print(\"%\",end=\"\")\n",
        "    else:\n",
        "      print(\"%\")\n",
        "    check=check+1"
      ],
      "metadata": {
        "colab": {
          "base_uri": "https://localhost:8080/"
        },
        "id": "DAeSy-rEwWHv",
        "outputId": "36e17036-882f-4b5b-b4c5-f7b334646d57"
      },
      "execution_count": null,
      "outputs": [
        {
          "output_type": "stream",
          "name": "stdout",
          "text": [
            "5\n",
            "%%%%%\n",
            "%%%%%\n",
            "%%%%%\n",
            "%%%%%\n",
            "%%%%%\n"
          ]
        }
      ]
    },
    {
      "cell_type": "code",
      "source": [],
      "metadata": {
        "id": "7QKYDumGeAt9"
      },
      "execution_count": null,
      "outputs": []
    }
  ]
}