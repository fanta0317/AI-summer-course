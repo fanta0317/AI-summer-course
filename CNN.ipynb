{
  "cells": [
    {
      "cell_type": "markdown",
      "metadata": {
        "id": "view-in-github",
        "colab_type": "text"
      },
      "source": [
        "<a href=\"https://colab.research.google.com/github/fanta0317/AI-summer-course/blob/main/CNN.ipynb\" target=\"_parent\"><img src=\"https://colab.research.google.com/assets/colab-badge.svg\" alt=\"Open In Colab\"/></a>"
      ]
    },
    {
      "cell_type": "code",
      "execution_count": null,
      "metadata": {
        "id": "Q63JIuTcSsYO"
      },
      "outputs": [],
      "source": [
        "from keras.datasets import mnist\n",
        "from keras.utils import np_utils\n",
        "import numpy as np\n",
        "np.random.seed(10)\n",
        "(x_train,y_train),(x_test,y_test)=mnist.load_data()"
      ]
    },
    {
      "cell_type": "code",
      "execution_count": null,
      "metadata": {
        "id": "yRbOcUwiUsEq"
      },
      "outputs": [],
      "source": [
        "x_train4d=x_train.reshape(x_train.shape[0],28,28,1).astype(\"float32\")\n",
        "x_test4d=x_test.reshape(x_test.shape[0],28,28,1).astype(\"float32\")#灰階=>多一個維度1\n",
        "\n",
        "#標準化\n",
        "x_train_normalize=x_train4d/255\n",
        "x_test_normalize=x_test4d/255\n",
        "\n",
        "#one hot encoding\n",
        "y_trainonehot=np_utils.to_categorical(y_train)\n",
        "y_trainonehot=np_utils.to_categorical(y_train)\n",
        "\n"
      ]
    },
    {
      "cell_type": "code",
      "execution_count": null,
      "metadata": {
        "colab": {
          "base_uri": "https://localhost:8080/"
        },
        "id": "T4LFaxamX7a5",
        "outputId": "adfe6707-ac6c-44a9-da7b-80b47cd7d997"
      },
      "outputs": [
        {
          "name": "stdout",
          "output_type": "stream",
          "text": [
            "Model: \"sequential_3\"\n",
            "_________________________________________________________________\n",
            " Layer (type)                Output Shape              Param #   \n",
            "=================================================================\n",
            " conv2d_6 (Conv2D)           (None, 28, 28, 16)        416       \n",
            "                                                                 \n",
            " max_pooling2d_6 (MaxPooling  (None, 14, 14, 16)       0         \n",
            " 2D)                                                             \n",
            "                                                                 \n",
            " conv2d_7 (Conv2D)           (None, 14, 14, 36)        14436     \n",
            "                                                                 \n",
            " max_pooling2d_7 (MaxPooling  (None, 7, 7, 36)         0         \n",
            " 2D)                                                             \n",
            "                                                                 \n",
            " flatten_1 (Flatten)         (None, 1764)              0         \n",
            "                                                                 \n",
            " dense_2 (Dense)             (None, 128)               225920    \n",
            "                                                                 \n",
            " dense_3 (Dense)             (None, 10)                1290      \n",
            "                                                                 \n",
            "=================================================================\n",
            "Total params: 242,062\n",
            "Trainable params: 242,062\n",
            "Non-trainable params: 0\n",
            "_________________________________________________________________\n"
          ]
        }
      ],
      "source": [
        "#creat CNN model\n",
        "from keras.models import Sequential\n",
        "from keras.layers import Dense,Flatten,Conv2D,MaxPooling2D\n",
        "\n",
        "model=Sequential()\n",
        "model.add(Conv2D(filters=16,kernel_size=(5,5),padding=\"same\",input_shape=(28,28,1),activation=\"relu\"))\n",
        "model.add(MaxPooling2D(pool_size=(2,2)))\n",
        "model.add(Conv2D(filters=36,kernel_size=(5,5),padding=\"same\",activation=\"relu\"))\n",
        "model.add(MaxPooling2D(pool_size=(2,2)))\n",
        "model.add(Flatten())\n",
        "model.add(Dense(128,activation=\"relu\"))\n",
        "model.add(Dense(10,activation=\"softmax\"))\n",
        "model.summary()\n"
      ]
    },
    {
      "cell_type": "code",
      "execution_count": null,
      "metadata": {
        "colab": {
          "background_save": true,
          "base_uri": "https://localhost:8080/"
        },
        "id": "nwJQjmJScCFg",
        "outputId": "46124c2f-8d59-4866-df3f-df0396a8b047"
      },
      "outputs": [
        {
          "name": "stdout",
          "output_type": "stream",
          "text": [
            "Epoch 1/10\n",
            "240/240 - 77s - loss: 0.0325 - accuracy: 0.9895 - val_loss: 0.0398 - val_accuracy: 0.9889 - 77s/epoch - 320ms/step\n",
            "Epoch 2/10\n",
            "240/240 - 78s - loss: 0.0226 - accuracy: 0.9927 - val_loss: 0.0370 - val_accuracy: 0.9887 - 78s/epoch - 325ms/step\n",
            "Epoch 3/10\n",
            "240/240 - 86s - loss: 0.0179 - accuracy: 0.9942 - val_loss: 0.0383 - val_accuracy: 0.9884 - 86s/epoch - 360ms/step\n",
            "Epoch 4/10\n",
            "240/240 - 69s - loss: 0.0152 - accuracy: 0.9951 - val_loss: 0.0385 - val_accuracy: 0.9900 - 69s/epoch - 289ms/step\n",
            "Epoch 5/10\n",
            "240/240 - 66s - loss: 0.0120 - accuracy: 0.9962 - val_loss: 0.0462 - val_accuracy: 0.9873 - 66s/epoch - 274ms/step\n",
            "Epoch 6/10\n",
            "240/240 - 71s - loss: 0.0104 - accuracy: 0.9963 - val_loss: 0.0412 - val_accuracy: 0.9887 - 71s/epoch - 295ms/step\n",
            "Epoch 7/10\n",
            "240/240 - 65s - loss: 0.0080 - accuracy: 0.9974 - val_loss: 0.0444 - val_accuracy: 0.9883 - 65s/epoch - 269ms/step\n",
            "Epoch 8/10\n",
            "240/240 - 63s - loss: 0.0059 - accuracy: 0.9979 - val_loss: 0.0349 - val_accuracy: 0.9914 - 63s/epoch - 264ms/step\n",
            "Epoch 9/10\n",
            "240/240 - 66s - loss: 0.0053 - accuracy: 0.9981 - val_loss: 0.0384 - val_accuracy: 0.9917 - 66s/epoch - 275ms/step\n",
            "Epoch 10/10\n",
            "240/240 - 73s - loss: 0.0036 - accuracy: 0.9987 - val_loss: 0.0390 - val_accuracy: 0.9913 - 73s/epoch - 306ms/step\n"
          ]
        }
      ],
      "source": [
        "#training\n",
        "model.compile(loss=\"categorical_crossentropy\",optimizer=\"adam\",metrics=[\"accuracy\"])\n",
        "\n",
        "\n",
        "train_history=model.fit(x=x_train_normalize,y=y_trainonehot,validation_split=0.2,epochs=10,batch_size=200,verbose=2)"
      ]
    },
    {
      "cell_type": "code",
      "execution_count": null,
      "metadata": {
        "id": "7wMyxEl0dhjR"
      },
      "outputs": [],
      "source": [
        "score=model.evaluate(x=x_test_normalize,y=y_testonehot)\n",
        "print(score)"
      ]
    },
    {
      "cell_type": "code",
      "execution_count": null,
      "metadata": {
        "id": "RM6RIQ_Rfnw2"
      },
      "outputs": [],
      "source": [
        "#predict\n",
        "predict_x=model.predict(x_train_normalize)\n",
        "predict_x=np.argmax(predict_x,axis=1)\n",
        "print(predict_x[:10])"
      ]
    },
    {
      "cell_type": "code",
      "execution_count": null,
      "metadata": {
        "id": "Z7oFqixMgSIe"
      },
      "outputs": [],
      "source": [
        "import pandas as pd\n",
        "pd.crosstab(y_test,predict_x,rownames=[\"label\"],colnames=[\"predict\"])"
      ]
    }
  ],
  "metadata": {
    "colab": {
      "provenance": [],
      "authorship_tag": "ABX9TyOU0XkhWgk36JPFvezP139f",
      "include_colab_link": true
    },
    "kernelspec": {
      "display_name": "Python 3",
      "name": "python3"
    },
    "language_info": {
      "name": "python"
    }
  },
  "nbformat": 4,
  "nbformat_minor": 0
}