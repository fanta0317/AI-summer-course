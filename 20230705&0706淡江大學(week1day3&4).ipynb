{
  "nbformat": 4,
  "nbformat_minor": 0,
  "metadata": {
    "colab": {
      "provenance": [],
      "authorship_tag": "ABX9TyNnPwuTqiiIqgGoPtFpQIQR",
      "include_colab_link": true
    },
    "kernelspec": {
      "name": "python3",
      "display_name": "Python 3"
    },
    "language_info": {
      "name": "python"
    }
  },
  "cells": [
    {
      "cell_type": "markdown",
      "metadata": {
        "id": "view-in-github",
        "colab_type": "text"
      },
      "source": [
        "<a href=\"https://colab.research.google.com/github/fanta0317/AI-summer-course/blob/main/20230705%260706%E6%B7%A1%E6%B1%9F%E5%A4%A7%E5%AD%B8(week1day3%264).ipynb\" target=\"_parent\"><img src=\"https://colab.research.google.com/assets/colab-badge.svg\" alt=\"Open In Colab\"/></a>"
      ]
    },
    {
      "cell_type": "code",
      "execution_count": null,
      "metadata": {
        "colab": {
          "base_uri": "https://localhost:8080/",
          "height": 349
        },
        "id": "TqCM0bLqnqFd",
        "outputId": "739479ff-7bfa-40ff-cf0d-95a6334ffe5b"
      },
      "outputs": [
        {
          "output_type": "error",
          "ename": "FileNotFoundError",
          "evalue": "ignored",
          "traceback": [
            "\u001b[0;31m---------------------------------------------------------------------------\u001b[0m",
            "\u001b[0;31mFileNotFoundError\u001b[0m                         Traceback (most recent call last)",
            "\u001b[0;32m<ipython-input-2-1be2bc1ba5f3>\u001b[0m in \u001b[0;36m<cell line: 2>\u001b[0;34m()\u001b[0m\n\u001b[1;32m      1\u001b[0m \u001b[0;32mimport\u001b[0m \u001b[0mpandas\u001b[0m \u001b[0;32mas\u001b[0m \u001b[0mpd\u001b[0m\u001b[0;34m\u001b[0m\u001b[0;34m\u001b[0m\u001b[0m\n\u001b[0;32m----> 2\u001b[0;31m \u001b[0mdata\u001b[0m\u001b[0;34m=\u001b[0m\u001b[0mpd\u001b[0m\u001b[0;34m.\u001b[0m\u001b[0mread_csv\u001b[0m\u001b[0;34m(\u001b[0m\u001b[0;34m\"clean.csv\"\u001b[0m\u001b[0;34m)\u001b[0m\u001b[0;34m\u001b[0m\u001b[0;34m\u001b[0m\u001b[0m\n\u001b[0m\u001b[1;32m      3\u001b[0m \u001b[0mprint\u001b[0m\u001b[0;34m(\u001b[0m\u001b[0mdata\u001b[0m\u001b[0;34m)\u001b[0m\u001b[0;34m\u001b[0m\u001b[0;34m\u001b[0m\u001b[0m\n",
            "\u001b[0;32m/usr/local/lib/python3.10/dist-packages/pandas/util/_decorators.py\u001b[0m in \u001b[0;36mwrapper\u001b[0;34m(*args, **kwargs)\u001b[0m\n\u001b[1;32m    209\u001b[0m                 \u001b[0;32melse\u001b[0m\u001b[0;34m:\u001b[0m\u001b[0;34m\u001b[0m\u001b[0;34m\u001b[0m\u001b[0m\n\u001b[1;32m    210\u001b[0m                     \u001b[0mkwargs\u001b[0m\u001b[0;34m[\u001b[0m\u001b[0mnew_arg_name\u001b[0m\u001b[0;34m]\u001b[0m \u001b[0;34m=\u001b[0m \u001b[0mnew_arg_value\u001b[0m\u001b[0;34m\u001b[0m\u001b[0;34m\u001b[0m\u001b[0m\n\u001b[0;32m--> 211\u001b[0;31m             \u001b[0;32mreturn\u001b[0m \u001b[0mfunc\u001b[0m\u001b[0;34m(\u001b[0m\u001b[0;34m*\u001b[0m\u001b[0margs\u001b[0m\u001b[0;34m,\u001b[0m \u001b[0;34m**\u001b[0m\u001b[0mkwargs\u001b[0m\u001b[0;34m)\u001b[0m\u001b[0;34m\u001b[0m\u001b[0;34m\u001b[0m\u001b[0m\n\u001b[0m\u001b[1;32m    212\u001b[0m \u001b[0;34m\u001b[0m\u001b[0m\n\u001b[1;32m    213\u001b[0m         \u001b[0;32mreturn\u001b[0m \u001b[0mcast\u001b[0m\u001b[0;34m(\u001b[0m\u001b[0mF\u001b[0m\u001b[0;34m,\u001b[0m \u001b[0mwrapper\u001b[0m\u001b[0;34m)\u001b[0m\u001b[0;34m\u001b[0m\u001b[0;34m\u001b[0m\u001b[0m\n",
            "\u001b[0;32m/usr/local/lib/python3.10/dist-packages/pandas/util/_decorators.py\u001b[0m in \u001b[0;36mwrapper\u001b[0;34m(*args, **kwargs)\u001b[0m\n\u001b[1;32m    329\u001b[0m                     \u001b[0mstacklevel\u001b[0m\u001b[0;34m=\u001b[0m\u001b[0mfind_stack_level\u001b[0m\u001b[0;34m(\u001b[0m\u001b[0;34m)\u001b[0m\u001b[0;34m,\u001b[0m\u001b[0;34m\u001b[0m\u001b[0;34m\u001b[0m\u001b[0m\n\u001b[1;32m    330\u001b[0m                 )\n\u001b[0;32m--> 331\u001b[0;31m             \u001b[0;32mreturn\u001b[0m \u001b[0mfunc\u001b[0m\u001b[0;34m(\u001b[0m\u001b[0;34m*\u001b[0m\u001b[0margs\u001b[0m\u001b[0;34m,\u001b[0m \u001b[0;34m**\u001b[0m\u001b[0mkwargs\u001b[0m\u001b[0;34m)\u001b[0m\u001b[0;34m\u001b[0m\u001b[0;34m\u001b[0m\u001b[0m\n\u001b[0m\u001b[1;32m    332\u001b[0m \u001b[0;34m\u001b[0m\u001b[0m\n\u001b[1;32m    333\u001b[0m         \u001b[0;31m# error: \"Callable[[VarArg(Any), KwArg(Any)], Any]\" has no\u001b[0m\u001b[0;34m\u001b[0m\u001b[0;34m\u001b[0m\u001b[0m\n",
            "\u001b[0;32m/usr/local/lib/python3.10/dist-packages/pandas/io/parsers/readers.py\u001b[0m in \u001b[0;36mread_csv\u001b[0;34m(filepath_or_buffer, sep, delimiter, header, names, index_col, usecols, squeeze, prefix, mangle_dupe_cols, dtype, engine, converters, true_values, false_values, skipinitialspace, skiprows, skipfooter, nrows, na_values, keep_default_na, na_filter, verbose, skip_blank_lines, parse_dates, infer_datetime_format, keep_date_col, date_parser, dayfirst, cache_dates, iterator, chunksize, compression, thousands, decimal, lineterminator, quotechar, quoting, doublequote, escapechar, comment, encoding, encoding_errors, dialect, error_bad_lines, warn_bad_lines, on_bad_lines, delim_whitespace, low_memory, memory_map, float_precision, storage_options)\u001b[0m\n\u001b[1;32m    948\u001b[0m     \u001b[0mkwds\u001b[0m\u001b[0;34m.\u001b[0m\u001b[0mupdate\u001b[0m\u001b[0;34m(\u001b[0m\u001b[0mkwds_defaults\u001b[0m\u001b[0;34m)\u001b[0m\u001b[0;34m\u001b[0m\u001b[0;34m\u001b[0m\u001b[0m\n\u001b[1;32m    949\u001b[0m \u001b[0;34m\u001b[0m\u001b[0m\n\u001b[0;32m--> 950\u001b[0;31m     \u001b[0;32mreturn\u001b[0m \u001b[0m_read\u001b[0m\u001b[0;34m(\u001b[0m\u001b[0mfilepath_or_buffer\u001b[0m\u001b[0;34m,\u001b[0m \u001b[0mkwds\u001b[0m\u001b[0;34m)\u001b[0m\u001b[0;34m\u001b[0m\u001b[0;34m\u001b[0m\u001b[0m\n\u001b[0m\u001b[1;32m    951\u001b[0m \u001b[0;34m\u001b[0m\u001b[0m\n\u001b[1;32m    952\u001b[0m \u001b[0;34m\u001b[0m\u001b[0m\n",
            "\u001b[0;32m/usr/local/lib/python3.10/dist-packages/pandas/io/parsers/readers.py\u001b[0m in \u001b[0;36m_read\u001b[0;34m(filepath_or_buffer, kwds)\u001b[0m\n\u001b[1;32m    603\u001b[0m \u001b[0;34m\u001b[0m\u001b[0m\n\u001b[1;32m    604\u001b[0m     \u001b[0;31m# Create the parser.\u001b[0m\u001b[0;34m\u001b[0m\u001b[0;34m\u001b[0m\u001b[0m\n\u001b[0;32m--> 605\u001b[0;31m     \u001b[0mparser\u001b[0m \u001b[0;34m=\u001b[0m \u001b[0mTextFileReader\u001b[0m\u001b[0;34m(\u001b[0m\u001b[0mfilepath_or_buffer\u001b[0m\u001b[0;34m,\u001b[0m \u001b[0;34m**\u001b[0m\u001b[0mkwds\u001b[0m\u001b[0;34m)\u001b[0m\u001b[0;34m\u001b[0m\u001b[0;34m\u001b[0m\u001b[0m\n\u001b[0m\u001b[1;32m    606\u001b[0m \u001b[0;34m\u001b[0m\u001b[0m\n\u001b[1;32m    607\u001b[0m     \u001b[0;32mif\u001b[0m \u001b[0mchunksize\u001b[0m \u001b[0;32mor\u001b[0m \u001b[0miterator\u001b[0m\u001b[0;34m:\u001b[0m\u001b[0;34m\u001b[0m\u001b[0;34m\u001b[0m\u001b[0m\n",
            "\u001b[0;32m/usr/local/lib/python3.10/dist-packages/pandas/io/parsers/readers.py\u001b[0m in \u001b[0;36m__init__\u001b[0;34m(self, f, engine, **kwds)\u001b[0m\n\u001b[1;32m   1440\u001b[0m \u001b[0;34m\u001b[0m\u001b[0m\n\u001b[1;32m   1441\u001b[0m         \u001b[0mself\u001b[0m\u001b[0;34m.\u001b[0m\u001b[0mhandles\u001b[0m\u001b[0;34m:\u001b[0m \u001b[0mIOHandles\u001b[0m \u001b[0;34m|\u001b[0m \u001b[0;32mNone\u001b[0m \u001b[0;34m=\u001b[0m \u001b[0;32mNone\u001b[0m\u001b[0;34m\u001b[0m\u001b[0;34m\u001b[0m\u001b[0m\n\u001b[0;32m-> 1442\u001b[0;31m         \u001b[0mself\u001b[0m\u001b[0;34m.\u001b[0m\u001b[0m_engine\u001b[0m \u001b[0;34m=\u001b[0m \u001b[0mself\u001b[0m\u001b[0;34m.\u001b[0m\u001b[0m_make_engine\u001b[0m\u001b[0;34m(\u001b[0m\u001b[0mf\u001b[0m\u001b[0;34m,\u001b[0m \u001b[0mself\u001b[0m\u001b[0;34m.\u001b[0m\u001b[0mengine\u001b[0m\u001b[0;34m)\u001b[0m\u001b[0;34m\u001b[0m\u001b[0;34m\u001b[0m\u001b[0m\n\u001b[0m\u001b[1;32m   1443\u001b[0m \u001b[0;34m\u001b[0m\u001b[0m\n\u001b[1;32m   1444\u001b[0m     \u001b[0;32mdef\u001b[0m \u001b[0mclose\u001b[0m\u001b[0;34m(\u001b[0m\u001b[0mself\u001b[0m\u001b[0;34m)\u001b[0m \u001b[0;34m->\u001b[0m \u001b[0;32mNone\u001b[0m\u001b[0;34m:\u001b[0m\u001b[0;34m\u001b[0m\u001b[0;34m\u001b[0m\u001b[0m\n",
            "\u001b[0;32m/usr/local/lib/python3.10/dist-packages/pandas/io/parsers/readers.py\u001b[0m in \u001b[0;36m_make_engine\u001b[0;34m(self, f, engine)\u001b[0m\n\u001b[1;32m   1733\u001b[0m                 \u001b[0;32mif\u001b[0m \u001b[0;34m\"b\"\u001b[0m \u001b[0;32mnot\u001b[0m \u001b[0;32min\u001b[0m \u001b[0mmode\u001b[0m\u001b[0;34m:\u001b[0m\u001b[0;34m\u001b[0m\u001b[0;34m\u001b[0m\u001b[0m\n\u001b[1;32m   1734\u001b[0m                     \u001b[0mmode\u001b[0m \u001b[0;34m+=\u001b[0m \u001b[0;34m\"b\"\u001b[0m\u001b[0;34m\u001b[0m\u001b[0;34m\u001b[0m\u001b[0m\n\u001b[0;32m-> 1735\u001b[0;31m             self.handles = get_handle(\n\u001b[0m\u001b[1;32m   1736\u001b[0m                 \u001b[0mf\u001b[0m\u001b[0;34m,\u001b[0m\u001b[0;34m\u001b[0m\u001b[0;34m\u001b[0m\u001b[0m\n\u001b[1;32m   1737\u001b[0m                 \u001b[0mmode\u001b[0m\u001b[0;34m,\u001b[0m\u001b[0;34m\u001b[0m\u001b[0;34m\u001b[0m\u001b[0m\n",
            "\u001b[0;32m/usr/local/lib/python3.10/dist-packages/pandas/io/common.py\u001b[0m in \u001b[0;36mget_handle\u001b[0;34m(path_or_buf, mode, encoding, compression, memory_map, is_text, errors, storage_options)\u001b[0m\n\u001b[1;32m    854\u001b[0m         \u001b[0;32mif\u001b[0m \u001b[0mioargs\u001b[0m\u001b[0;34m.\u001b[0m\u001b[0mencoding\u001b[0m \u001b[0;32mand\u001b[0m \u001b[0;34m\"b\"\u001b[0m \u001b[0;32mnot\u001b[0m \u001b[0;32min\u001b[0m \u001b[0mioargs\u001b[0m\u001b[0;34m.\u001b[0m\u001b[0mmode\u001b[0m\u001b[0;34m:\u001b[0m\u001b[0;34m\u001b[0m\u001b[0;34m\u001b[0m\u001b[0m\n\u001b[1;32m    855\u001b[0m             \u001b[0;31m# Encoding\u001b[0m\u001b[0;34m\u001b[0m\u001b[0;34m\u001b[0m\u001b[0m\n\u001b[0;32m--> 856\u001b[0;31m             handle = open(\n\u001b[0m\u001b[1;32m    857\u001b[0m                 \u001b[0mhandle\u001b[0m\u001b[0;34m,\u001b[0m\u001b[0;34m\u001b[0m\u001b[0;34m\u001b[0m\u001b[0m\n\u001b[1;32m    858\u001b[0m                 \u001b[0mioargs\u001b[0m\u001b[0;34m.\u001b[0m\u001b[0mmode\u001b[0m\u001b[0;34m,\u001b[0m\u001b[0;34m\u001b[0m\u001b[0;34m\u001b[0m\u001b[0m\n",
            "\u001b[0;31mFileNotFoundError\u001b[0m: [Errno 2] No such file or directory: 'clean.csv'"
          ]
        }
      ],
      "source": [
        "import pandas as pd\n",
        "data=pd.read_csv(\"clean.csv\")\n",
        "print(data)"
      ]
    },
    {
      "cell_type": "code",
      "source": [],
      "metadata": {
        "id": "_THN0qkAouJH"
      },
      "execution_count": null,
      "outputs": []
    },
    {
      "cell_type": "code",
      "source": [],
      "metadata": {
        "id": "p22YF33tHMzJ"
      },
      "execution_count": null,
      "outputs": []
    },
    {
      "cell_type": "code",
      "source": [
        "print (type(data))"
      ],
      "metadata": {
        "colab": {
          "base_uri": "https://localhost:8080/"
        },
        "id": "3fw1URAensxi",
        "outputId": "a4a896bf-5fc8-448a-d7e3-7931e02da0e3"
      },
      "execution_count": null,
      "outputs": [
        {
          "output_type": "stream",
          "name": "stdout",
          "text": [
            "<class 'pandas.core.frame.DataFrame'>\n"
          ]
        }
      ]
    },
    {
      "cell_type": "code",
      "source": [
        "data =data.to_numpy()\n",
        "print(type(data))"
      ],
      "metadata": {
        "colab": {
          "base_uri": "https://localhost:8080/"
        },
        "id": "f6KcxJb7o5LL",
        "outputId": "ae86bf35-fb9b-47ac-aa9c-cb9302f650a6"
      },
      "execution_count": null,
      "outputs": [
        {
          "output_type": "stream",
          "name": "stdout",
          "text": [
            "<class 'numpy.ndarray'>\n"
          ]
        }
      ]
    },
    {
      "cell_type": "code",
      "source": [
        "print(data)"
      ],
      "metadata": {
        "colab": {
          "base_uri": "https://localhost:8080/"
        },
        "id": "I2yfP3b3pF4L",
        "outputId": "5246ebda-7554-485e-8415-c2a80966362d"
      },
      "execution_count": null,
      "outputs": [
        {
          "output_type": "stream",
          "name": "stdout",
          "text": [
            "[[ 2.  4.  4. ...  4.  4. nan]\n",
            " [ 1.  5.  4. ...  5.  5. nan]\n",
            " [ 2.  3.  3. ...  4.  4. nan]\n",
            " ...\n",
            " [ 3.  2.  2. ...  5.  4.  2.]\n",
            " [ 3.  4.  4. ...  4.  5.  5.]\n",
            " [ 2.  3.  3. ...  3.  3.  3.]]\n"
          ]
        }
      ]
    },
    {
      "cell_type": "code",
      "source": [
        "print(data.shape)"
      ],
      "metadata": {
        "colab": {
          "base_uri": "https://localhost:8080/"
        },
        "id": "LUgH-kRPpo7r",
        "outputId": "1bfe996a-1339-4909-b2a9-355f8cca55ba"
      },
      "execution_count": null,
      "outputs": [
        {
          "output_type": "stream",
          "name": "stdout",
          "text": [
            "(350, 9)\n"
          ]
        }
      ]
    },
    {
      "cell_type": "code",
      "source": [
        "#找row的缺失值\n",
        "#所有的nan刪除\n",
        "import numpy as np\n",
        "rows_with_nan = np.isnan(data).any(axis=1)#isnan找缺失值\n",
        "print(type(data))\n",
        "print(rows_with_nan)"
      ],
      "metadata": {
        "colab": {
          "base_uri": "https://localhost:8080/"
        },
        "id": "aTszycY4psNK",
        "outputId": "5690cb8a-42dd-46a0-c8ff-70c2248c474a"
      },
      "execution_count": null,
      "outputs": [
        {
          "output_type": "stream",
          "name": "stdout",
          "text": [
            "[ True  True  True False False False False False False False False False\n",
            " False False False False False False False False False False False False\n",
            " False False False False False False False False False False False False\n",
            " False False False False False False False False False False False False\n",
            " False False False False False False False False False False False False\n",
            " False False False False False False False False False False False False\n",
            " False False False False False False False False False False False False\n",
            " False False False False False False False False False False False False\n",
            " False False False False False False False False False False False False\n",
            " False False False False False False False False False False False False\n",
            " False False False False False False False False False False False False\n",
            " False False False False False False False False False False False False\n",
            " False False False False False False False False False False False False\n",
            " False False False False False False False False False False False False\n",
            " False False False False False False False False False False False False\n",
            " False False False False False False False False False False False False\n",
            " False False False False False False False False False False False False\n",
            " False False False False False False False False False False False False\n",
            " False False False False False False False False False False False False\n",
            " False False False False False False False False False False False False\n",
            " False False False False False False False False False False False False\n",
            " False False False False False False False False False False False False\n",
            " False False False False False False False False False False False False\n",
            " False False False False False False False False False False False False\n",
            " False False False False False False False False False False False False\n",
            " False False False False False False False False False False False False\n",
            " False False False False False False False False False False False False\n",
            " False False False False False False False False False False False False\n",
            " False False False False False False False False False False False False\n",
            " False False]\n"
          ]
        }
      ]
    },
    {
      "cell_type": "code",
      "source": [
        "data =data[~rows_with_nan]\n",
        "print(data)"
      ],
      "metadata": {
        "colab": {
          "base_uri": "https://localhost:8080/"
        },
        "id": "EYy9mkVnqkKN",
        "outputId": "6bb6c833-5cb8-4812-967b-1e9dcec5e924"
      },
      "execution_count": null,
      "outputs": [
        {
          "output_type": "stream",
          "name": "stdout",
          "text": [
            "[[  2.   5.   4. ...   4.   1. 999.]\n",
            " [  2.   3.   3. ...   4.   5. 999.]\n",
            " [  2.   2.   2. ...   5.   5. 999.]\n",
            " ...\n",
            " [  3.   2.   2. ...   5.   4.   2.]\n",
            " [  3.   4.   4. ...   4.   5.   5.]\n",
            " [  2.   3.   3. ...   3.   3.   3.]]\n"
          ]
        }
      ]
    },
    {
      "cell_type": "code",
      "source": [
        "data = np.where(data==999, np.nan , data)\n",
        "print(data)\n",
        "print(\"  \")\n",
        "rows_with_nan = np.isnan(data).any(axis=1)\n",
        "data =data[~rows_with_nan, :]\n",
        "print(data)\n",
        "print(data.shape)\n",
        "data=np.unique(data,axis=0)#相同者刪除\n",
        "print(len(data))"
      ],
      "metadata": {
        "colab": {
          "base_uri": "https://localhost:8080/"
        },
        "id": "B8O1A-dNs15K",
        "outputId": "46dc0564-a074-475b-cc4a-62cef01eecef"
      },
      "execution_count": null,
      "outputs": [
        {
          "output_type": "stream",
          "name": "stdout",
          "text": [
            "[[2. 3. 3. ... 4. 4. 4.]\n",
            " [2. 3. 3. ... 4. 4. 4.]\n",
            " [1. 3. 5. ... 4. 4. 4.]\n",
            " ...\n",
            " [3. 2. 2. ... 5. 4. 2.]\n",
            " [3. 4. 4. ... 4. 5. 5.]\n",
            " [2. 3. 3. ... 3. 3. 3.]]\n",
            "  \n",
            "[[2. 3. 3. ... 4. 4. 4.]\n",
            " [2. 3. 3. ... 4. 4. 4.]\n",
            " [1. 3. 5. ... 4. 4. 4.]\n",
            " ...\n",
            " [3. 2. 2. ... 5. 4. 2.]\n",
            " [3. 4. 4. ... 4. 5. 5.]\n",
            " [2. 3. 3. ... 3. 3. 3.]]\n",
            "(344, 9)\n",
            "288\n"
          ]
        }
      ]
    },
    {
      "cell_type": "markdown",
      "source": [
        "--------------------------------------------------------------------------------------------------------------------------------------\n"
      ],
      "metadata": {
        "id": "CVOfUjp42FwQ"
      }
    },
    {
      "cell_type": "code",
      "source": [
        "data=[[1,2,3],[4,5,6],[7,8,9],[10,11,12]]\n",
        "print(data)"
      ],
      "metadata": {
        "colab": {
          "base_uri": "https://localhost:8080/"
        },
        "id": "y0G_SmEa2ISY",
        "outputId": "9f9a18c8-ea43-4749-b674-cd2c3de4c28c"
      },
      "execution_count": null,
      "outputs": [
        {
          "output_type": "stream",
          "name": "stdout",
          "text": [
            "[[1, 2, 3], [4, 5, 6], [7, 8, 9], [10, 11, 12]]\n"
          ]
        }
      ]
    },
    {
      "cell_type": "code",
      "source": [
        "print(type(data))"
      ],
      "metadata": {
        "colab": {
          "base_uri": "https://localhost:8080/"
        },
        "id": "kC4QMq_02mRE",
        "outputId": "5ad367af-6b92-467f-af22-264724e42d50"
      },
      "execution_count": null,
      "outputs": [
        {
          "output_type": "stream",
          "name": "stdout",
          "text": [
            "<class 'list'>\n"
          ]
        }
      ]
    },
    {
      "cell_type": "code",
      "source": [
        "data=[[1,2,3],[4,5,6],[7,8,9],[10,11,12]]\n",
        "#print(data)\n",
        "from sqlalchemy.sql.expression import column\n",
        "columns =[\"s1\",\"s2\",\"s3\"]\n",
        "import pandas as pd\n",
        "df=pd.DataFrame(data, columns=columns)\n",
        "print(df)\n",
        "#print(type(data))\n",
        "print(\"-------------------------------------------------------------------------------------------------\")\n",
        "print(df.iloc[:,0:2])\n",
        "print(\"-------------------------------------------------------------------------------------------------\")\n",
        "print(df.loc[:,\"s1\"])#去除"
      ],
      "metadata": {
        "colab": {
          "base_uri": "https://localhost:8080/"
        },
        "id": "LeCbVmeA2tsy",
        "outputId": "45f1f581-eb59-4493-faf6-c30e5a9d1fe5"
      },
      "execution_count": null,
      "outputs": [
        {
          "output_type": "stream",
          "name": "stdout",
          "text": [
            "   s1  s2  s3\n",
            "0   1   2   3\n",
            "1   4   5   6\n",
            "2   7   8   9\n",
            "3  10  11  12\n",
            "-------------------------------------------------------------------------------------------------\n",
            "   s1  s2\n",
            "0   1   2\n",
            "1   4   5\n",
            "2   7   8\n",
            "3  10  11\n",
            "-------------------------------------------------------------------------------------------------\n",
            "0     1\n",
            "1     4\n",
            "2     7\n",
            "3    10\n",
            "Name: s1, dtype: int64\n"
          ]
        }
      ]
    },
    {
      "cell_type": "code",
      "source": [
        "import pandas as pd\n",
        "ds = pd.Series([1,2,3])\n",
        "print(ds)\n",
        "print(type(ds))\n",
        "print(ds.shape)\n",
        "print(ds.values)\n",
        "print(type(ds.values))\n",
        "print(\"-------------------------------------------------------------------------------------------------\")\n",
        "print(df.iloc[0:1, : ])\n",
        "print(\"-------------------------------------------------------------------------------------------------\")\n",
        "print(df.iloc[0, : ])\n",
        "print(\"-------------------------------------------------------------------------------------------------\")\n",
        "#ABC插入第一排\n",
        "df_r=df.replace([1,2,3],[\"A\",\"B\",\"C\"])\n",
        "print(df_r)\n",
        "print(\"-------------------------------------------------------------------------------------------------\")\n",
        "#刪除第一排\n",
        "sdf=df.drop(\"s1\",axis=1)\n",
        "print(sdf)\n",
        "print(\"-------------------------------------------------------------------------------------------------\")\n",
        "rdf=df.drop([0],axis=0)\n",
        "print(rdf)\n",
        "print(\"-------------------------------------------------------------------------------------------------\")\n",
        "print(df.iloc[:,0].values)\n",
        "print(\"-------------------------------------------------------------------------------------------------\")\n",
        "print(type(df.iloc[:,0].values))\n",
        "print(\"-------------------------------------------------------------------------------------------------\")"
      ],
      "metadata": {
        "colab": {
          "base_uri": "https://localhost:8080/"
        },
        "id": "fgyXVX1Z3SS9",
        "outputId": "15687c97-2ca5-492e-fc5f-4ebec27e8340"
      },
      "execution_count": null,
      "outputs": [
        {
          "output_type": "stream",
          "name": "stdout",
          "text": [
            "0    1\n",
            "1    2\n",
            "2    3\n",
            "dtype: int64\n",
            "<class 'pandas.core.series.Series'>\n",
            "(3,)\n",
            "[1 2 3]\n",
            "<class 'numpy.ndarray'>\n",
            "-------------------------------------------------------------------------------------------------\n",
            "   s1  s2  s3\n",
            "0   1   2   3\n",
            "-------------------------------------------------------------------------------------------------\n",
            "s1    1\n",
            "s2    2\n",
            "s3    3\n",
            "Name: 0, dtype: int64\n",
            "-------------------------------------------------------------------------------------------------\n",
            "   s1  s2  s3\n",
            "0   A   B   C\n",
            "1   4   5   6\n",
            "2   7   8   9\n",
            "3  10  11  12\n",
            "-------------------------------------------------------------------------------------------------\n",
            "   s2  s3\n",
            "0   2   3\n",
            "1   5   6\n",
            "2   8   9\n",
            "3  11  12\n",
            "-------------------------------------------------------------------------------------------------\n",
            "   s1  s2  s3\n",
            "1   4   5   6\n",
            "2   7   8   9\n",
            "3  10  11  12\n",
            "-------------------------------------------------------------------------------------------------\n",
            "[ 1  4  7 10]\n",
            "-------------------------------------------------------------------------------------------------\n",
            "<class 'numpy.ndarray'>\n",
            "-------------------------------------------------------------------------------------------------\n"
          ]
        }
      ]
    },
    {
      "cell_type": "code",
      "source": [
        "def custom_f(x):\n",
        "  x=x*x\n",
        "  print(x)\n",
        "a=int(input())\n",
        "custom_f(a)\n",
        "print(\"-------------------------------------------------------------------------------------------------\")\n",
        "print(df)\n",
        "print(\"-------------------------------------------------------------------------------------------------\")\n",
        "res1=df.loc[:,\"s1\"].apply(custom_f)\n",
        "print(res1)\n",
        "print(\"-------------------------------------------------------------------------------------------------\")\n",
        "res2= df.iloc[:,0].apply(custom_f)\n",
        "print(res2)\n",
        "print(\"-------------------------------------------------------------------------------------------------\")\n",
        "res3 = df.apply(custom_f,axis=0)\n",
        "print(res3)\n"
      ],
      "metadata": {
        "colab": {
          "base_uri": "https://localhost:8080/"
        },
        "id": "L5QGVPPh7SC4",
        "outputId": "bbdeec2f-5365-4bb8-ba36-f84816971df8"
      },
      "execution_count": null,
      "outputs": [
        {
          "output_type": "stream",
          "name": "stdout",
          "text": [
            "5\n",
            "25\n",
            "-------------------------------------------------------------------------------------------------\n",
            "   s1  s2  s3\n",
            "0   1   2   3\n",
            "1   4   5   6\n",
            "2   7   8   9\n",
            "3  10  11  12\n",
            "-------------------------------------------------------------------------------------------------\n",
            "1\n",
            "16\n",
            "49\n",
            "100\n",
            "0    None\n",
            "1    None\n",
            "2    None\n",
            "3    None\n",
            "Name: s1, dtype: object\n",
            "-------------------------------------------------------------------------------------------------\n",
            "1\n",
            "16\n",
            "49\n",
            "100\n",
            "0    None\n",
            "1    None\n",
            "2    None\n",
            "3    None\n",
            "Name: s1, dtype: object\n",
            "-------------------------------------------------------------------------------------------------\n",
            "0      1\n",
            "1     16\n",
            "2     49\n",
            "3    100\n",
            "Name: s1, dtype: int64\n",
            "0      4\n",
            "1     25\n",
            "2     64\n",
            "3    121\n",
            "Name: s2, dtype: int64\n",
            "0      9\n",
            "1     36\n",
            "2     81\n",
            "3    144\n",
            "Name: s3, dtype: int64\n",
            "s1    None\n",
            "s2    None\n",
            "s3    None\n",
            "dtype: object\n",
            "   s1  s2  s3\n",
            "0   1   2   3\n",
            "1   4   5   6\n",
            "2   7   8   9\n",
            "3  10  11  12\n"
          ]
        }
      ]
    },
    {
      "cell_type": "code",
      "source": [
        "import pandas as pd\n",
        "data=pd.read_csv(\"clean.csv\")\n",
        "print(data)\n",
        "print(\"-------------------------------------------------------------------------------------------------\")\n",
        "print(data.duplicated())\n",
        "print(\"-------------------------------------------------------------------------------------------------\")\n",
        "print(len(data[data.duplicated()]))\n",
        "print(\"-------------------------------------------------------------------------------------------------\")\n",
        "data.drop_duplicates(inplace=True)\n",
        "print(len(data))\n",
        "print(\"-------------------------------------------------------------------------------------------------\")\n",
        "data = data.dropna(axis=0)#將nan的row刪除\n",
        "print(data)\n",
        "print(data.shape)"
      ],
      "metadata": {
        "colab": {
          "base_uri": "https://localhost:8080/"
        },
        "id": "obdAKgr4_7_5",
        "outputId": "c0734866-a75f-4834-8d8f-560a01e1ba58"
      },
      "execution_count": null,
      "outputs": [
        {
          "output_type": "stream",
          "name": "stdout",
          "text": [
            "     A1  A2  A3  S1  S2  S3  D1  D2     D3\n",
            "0     2   4   4   4   4   4   4   4    NaN\n",
            "1     1   5   4   5   5   5   5   5    NaN\n",
            "2     2   3   3   3   5   5   4   4    NaN\n",
            "3     2   5   4   4   4   4   4   1  999.0\n",
            "4     2   3   3   4   5   5   4   5  999.0\n",
            "..   ..  ..  ..  ..  ..  ..  ..  ..    ...\n",
            "345   1   4   4   5   4   4   4   4    4.0\n",
            "346   1   4   4   5   5   5   4   3    3.0\n",
            "347   3   2   2   3   3   2   5   4    2.0\n",
            "348   3   4   4   3   3   3   4   5    5.0\n",
            "349   2   3   3   3   2   2   3   3    3.0\n",
            "\n",
            "[350 rows x 9 columns]\n",
            "-------------------------------------------------------------------------------------------------\n",
            "0      False\n",
            "1      False\n",
            "2      False\n",
            "3      False\n",
            "4      False\n",
            "       ...  \n",
            "345    False\n",
            "346    False\n",
            "347    False\n",
            "348    False\n",
            "349    False\n",
            "Length: 350, dtype: bool\n",
            "-------------------------------------------------------------------------------------------------\n",
            "56\n",
            "-------------------------------------------------------------------------------------------------\n",
            "294\n",
            "-------------------------------------------------------------------------------------------------\n",
            "     A1  A2  A3  S1  S2  S3  D1  D2     D3\n",
            "3     2   5   4   4   4   4   4   1  999.0\n",
            "4     2   3   3   4   5   5   4   5  999.0\n",
            "5     2   2   2   4   4   4   5   5  999.0\n",
            "6     2   3   3   4   4   4   4   4    4.0\n",
            "7     2   3   3   3   4   4   4   4    4.0\n",
            "..   ..  ..  ..  ..  ..  ..  ..  ..    ...\n",
            "345   1   4   4   5   4   4   4   4    4.0\n",
            "346   1   4   4   5   5   5   4   3    3.0\n",
            "347   3   2   2   3   3   2   5   4    2.0\n",
            "348   3   4   4   3   3   3   4   5    5.0\n",
            "349   2   3   3   3   2   2   3   3    3.0\n",
            "\n",
            "[291 rows x 9 columns]\n",
            "(291, 9)\n"
          ]
        }
      ]
    },
    {
      "cell_type": "code",
      "source": [
        "#把重複值刪除\n",
        "#把nan 999刪除\n"
      ],
      "metadata": {
        "id": "ucRjzAsRHmGP"
      },
      "execution_count": null,
      "outputs": []
    },
    {
      "cell_type": "markdown",
      "source": [
        "KNN演算法-----------------------------------------------------------------------------------------------------------------------------------------------------------------------------------------------------------------\n"
      ],
      "metadata": {
        "id": "T76GE1t0n8mR"
      }
    },
    {
      "cell_type": "code",
      "source": [
        "import pandas as pd\n",
        "data=pd.read_csv(\"knn_c.csv\")\n",
        "print(data)\n",
        "print(\"-------------------------------------------------------------------------------------------------\")\n",
        "print(data.shape)"
      ],
      "metadata": {
        "colab": {
          "base_uri": "https://localhost:8080/"
        },
        "id": "vp7Ml9JBoRDJ",
        "outputId": "7a35e01d-ce59-4413-b598-884a0f856e33"
      },
      "execution_count": null,
      "outputs": [
        {
          "output_type": "stream",
          "name": "stdout",
          "text": [
            "    height  weight  size\n",
            "0      158      58     1\n",
            "1      158      59     1\n",
            "2      158      63     1\n",
            "3      160      59     1\n",
            "4      160      60     1\n",
            "..     ...     ...   ...\n",
            "85     167      63     2\n",
            "86     167      66     2\n",
            "87     169      63     2\n",
            "88     169      64     2\n",
            "89     169      68     2\n",
            "\n",
            "[90 rows x 3 columns]\n",
            "-------------------------------------------------------------------------------------------------\n",
            "(90, 3)\n"
          ]
        }
      ]
    },
    {
      "cell_type": "code",
      "source": [
        "#KNN\n",
        "import matplotlib.pyplot as plt\n",
        "from matplotlib.colors import ListedColormap\n",
        "label = data.iloc[:,2].values\n",
        "colors = [\"red\",\"green\"]\n",
        "plt.scatter(data.iloc[:,0],data.iloc[:,1],c=label,cmap=ListedColormap(colors))\n",
        "xlabel=(\"height\")\n",
        "ylabel=(\"weight\")\n",
        "\n",
        "plt.show()"
      ],
      "metadata": {
        "colab": {
          "base_uri": "https://localhost:8080/",
          "height": 430
        },
        "id": "6T_mYDYgoUkv",
        "outputId": "b8d85bd4-a9ed-435f-8774-e714d5a1683c"
      },
      "execution_count": null,
      "outputs": [
        {
          "output_type": "display_data",
          "data": {
            "text/plain": [
              "<Figure size 640x480 with 1 Axes>"
            ],
            "image/png": "[encoded data removed]"
          },
          "metadata": {}
        }
      ]
    },
    {
      "cell_type": "code",
      "source": [
        "from sklearn.model_selection import train_test_split\n",
        "train,test=train_test_split(data,test_size=0.4)\n",
        "#print(train.shape)\n",
        "#print(test.shape)\n",
        "X_train=train.iloc[:,0:2]\n",
        "Y_train=train.iloc[:,2]\n",
        "print(X_train)\n",
        "print(Y_train)\n",
        "print(\"-------------------------------------------------------------------------------------------------\")\n",
        "from sklearn.neighbors import KNeighborsClassifier\n",
        "K=4#主觀決定\n",
        "#建modle\n",
        "model = KNeighborsClassifier(n_neighbors=K).fit(X_train,Y_train)\n",
        "#print(model)\n",
        "#------------------------------------------------------------------------------------------------------------\n",
        "#(171,66)\n",
        "new = {\"height\":[171],\"weight\":[66]}#用datafream\n",
        "#print(type(new))\n",
        "new=pd.DataFrame(new)\n",
        "#print(type(new))已經成datafream\n",
        "pred_new=model.predict(new)#預測\n",
        "print(pred_new)#輸出1(M)/2(L)之結果\n",
        "print(\"-------------------------------------------------------------------------------------------------\")\n",
        "X_test = test.iloc[:,0:2]\n",
        "pred_test = model.predict(X_test)\n",
        "print(pred_test)\n",
        "print(\"-------------------------------------------------------------------------------------------------\")\n",
        "Y_test= test.iloc[:,2]\n",
        "print(Y_test)\n",
        "print(\"-------------------------------------------------------------------------------------------------\")\n",
        "import numpy as np\n",
        "com=np.vstack((Y_test,pred_test))\n",
        "print(com)\n",
        "print(\"-------------------------------------------------------------------------------------------------\")\n",
        "print(abs(Y_test - pred_test).sum())\n",
        "acc=(len(pred_test)-abs(Y_test - pred_test).sum())/len(pred_test)#算準確率\n",
        "print(acc)"
      ],
      "metadata": {
        "colab": {
          "base_uri": "https://localhost:8080/"
        },
        "id": "P8Ax9pFuvnDN",
        "outputId": "212e1dac-eadf-48f4-a3c8-8e20d9e7fdcc"
      },
      "execution_count": null,
      "outputs": [
        {
          "output_type": "stream",
          "name": "stdout",
          "text": [
            "    height  weight\n",
            "69     170      64\n",
            "71     170      69\n",
            "34     170      64\n",
            "75     159      59\n",
            "43     156      64\n",
            "77     162      60\n",
            "32     168      66\n",
            "0      158      58\n",
            "62     163      65\n",
            "54     158      58\n",
            "38     158      63\n",
            "46     161      62\n",
            "61     160      65\n",
            "8      163      64\n",
            "36     158      58\n",
            "45     161      61\n",
            "31     168      63\n",
            "40     160      60\n",
            "37     158      59\n",
            "2      158      63\n",
            "30     168      62\n",
            "44     159      64\n",
            "42     163      61\n",
            "84     167      62\n",
            "79     159      64\n",
            "29     165      65\n",
            "47     161      65\n",
            "85     167      63\n",
            "82     164      62\n",
            "1      158      59\n",
            "22     160      60\n",
            "3      160      59\n",
            "74     157      63\n",
            "78     162      61\n",
            "59     163      60\n",
            "9      165      61\n",
            "6      163      61\n",
            "56     158      63\n",
            "33     170      63\n",
            "63     165      62\n",
            "24     163      61\n",
            "17     170      68\n",
            "67     168      64\n",
            "7      160      64\n",
            "35     170      68\n",
            "64     165      63\n",
            "19     158      59\n",
            "14     168      66\n",
            "26     163      64\n",
            "70     170      65\n",
            "13     168      63\n",
            "89     169      68\n",
            "72     157      58\n",
            "28     165      62\n",
            "69    2\n",
            "71    2\n",
            "34    2\n",
            "75    1\n",
            "43    1\n",
            "77    1\n",
            "32    2\n",
            "0     1\n",
            "62    2\n",
            "54    1\n",
            "38    2\n",
            "46    2\n",
            "61    1\n",
            "8     1\n",
            "36    1\n",
            "45    2\n",
            "31    2\n",
            "40    1\n",
            "37    1\n",
            "2     1\n",
            "30    2\n",
            "44    2\n",
            "42    1\n",
            "84    1\n",
            "79    1\n",
            "29    2\n",
            "47    2\n",
            "85    2\n",
            "82    2\n",
            "1     1\n",
            "22    1\n",
            "3     1\n",
            "74    1\n",
            "78    1\n",
            "59    1\n",
            "9     2\n",
            "6     2\n",
            "56    2\n",
            "33    2\n",
            "63    2\n",
            "24    2\n",
            "17    2\n",
            "67    2\n",
            "7     1\n",
            "35    2\n",
            "64    2\n",
            "19    1\n",
            "14    2\n",
            "26    2\n",
            "70    2\n",
            "13    2\n",
            "89    2\n",
            "72    1\n",
            "28    2\n",
            "Name: size, dtype: int64\n",
            "-------------------------------------------------------------------------------------------------\n",
            "[2]\n",
            "-------------------------------------------------------------------------------------------------\n",
            "[2 1 2 2 2 1 1 2 1 2 2 1 2 1 1 1 1 2 2 2 2 2 1 2 2 1 2 2 1 1 2 1 2 1 2 2]\n",
            "-------------------------------------------------------------------------------------------------\n",
            "66    2\n",
            "41    1\n",
            "16    2\n",
            "86    2\n",
            "51    2\n",
            "4     1\n",
            "20    1\n",
            "81    2\n",
            "76    1\n",
            "50    2\n",
            "49    2\n",
            "5     1\n",
            "68    2\n",
            "23    2\n",
            "18    1\n",
            "39    1\n",
            "57    1\n",
            "27    2\n",
            "52    1\n",
            "12    2\n",
            "87    2\n",
            "83    2\n",
            "58    1\n",
            "65    2\n",
            "48    2\n",
            "60    1\n",
            "53    2\n",
            "11    2\n",
            "21    2\n",
            "55    1\n",
            "88    2\n",
            "25    2\n",
            "10    2\n",
            "73    1\n",
            "15    2\n",
            "80    1\n",
            "Name: size, dtype: int64\n",
            "-------------------------------------------------------------------------------------------------\n",
            "[[2 1 2 2 2 1 1 2 1 2 2 1 2 2 1 1 1 2 1 2 2 2 1 2 2 1 2 2 2 1 2 2 2 1 2 1]\n",
            " [2 1 2 2 2 1 1 2 1 2 2 1 2 1 1 1 1 2 2 2 2 2 1 2 2 1 2 2 1 1 2 1 2 1 2 2]]\n",
            "-------------------------------------------------------------------------------------------------\n",
            "5\n",
            "0.8611111111111112\n"
          ]
        }
      ]
    },
    {
      "cell_type": "code",
      "source": [
        "from sklearn.model_selection import train_test_split\n",
        "train,test=train_test_split(data,test_size=0.4)\n",
        "#print(train.shape)\n",
        "#print(test.shape)\n",
        "X_train=train.iloc[:,0:2]\n",
        "Y_train=train.iloc[:,2]\n",
        "#print(X_train)\n",
        "#print(Y_train)\n",
        "#print(\"-------------------------------------------------------------------------------------------------\")\n",
        "from sklearn.neighbors import KNeighborsClassifier\n",
        "K=4#主觀決定\n",
        "#建modle\n",
        "model = KNeighborsClassifier(n_neighbors=K).fit(X_train,Y_train)\n",
        "#print(model)\n",
        "#------------------------------------------------------------------------------------------------------------\n",
        "#(171,66)\n",
        "new = {\"height\":[171],\"weight\":[66]}#用datafream\n",
        "#print(type(new))\n",
        "new=pd.DataFrame(new)\n",
        "#print(type(new))已經成datafream\n",
        "pred_new=model.predict(new)#預測\n",
        "#print(pred_new)#輸出1(M)/2(L)之結果\n",
        "#print(\"-------------------------------------------------------------------------------------------------\")\n",
        "X_test = test.iloc[:,0:2]\n",
        "pred_test = model.predict(X_test)\n",
        "#print(pred_test)\n",
        "#print(\"-------------------------------------------------------------------------------------------------\")\n",
        "Y_test= test.iloc[:,2]\n",
        "#print(Y_test)\n",
        "#print(\"-------------------------------------------------------------------------------------------------\")\n",
        "import numpy as np\n",
        "com=np.vstack((Y_test,pred_test))\n",
        "#print(com)\n",
        "#print(\"-------------------------------------------------------------------------------------------------\")\n",
        "#print(abs(Y_test - pred_test).sum())\n",
        "acc=(len(pred_test)-abs(Y_test - pred_test).sum())/len(pred_test)#算準確率\n",
        "print(acc)"
      ],
      "metadata": {
        "colab": {
          "base_uri": "https://localhost:8080/"
        },
        "id": "ZBfy3ErEx7_Y",
        "outputId": "bcd06bf0-1c12-4816-a509-dbff631f6f8f"
      },
      "execution_count": null,
      "outputs": [
        {
          "output_type": "stream",
          "name": "stdout",
          "text": [
            "0.8888888888888888\n"
          ]
        }
      ]
    },
    {
      "cell_type": "markdown",
      "source": [
        "HC演算法-----------------------------------------------------------------------------------------------------------------------------------------------------------------------------------------------------------------\n"
      ],
      "metadata": {
        "id": "3Zm0quC5CsxZ"
      }
    },
    {
      "cell_type": "code",
      "source": [
        "#final:>\n",
        "import pandas as pd\n",
        "data=pd.read_csv(\"HC.csv\")\n",
        "#print(data)\n",
        "#print(type(data))\n",
        "#做矩陣\n",
        "data = data.to_numpy()\n",
        "#print(data)\n",
        "#print(type(data))\n",
        "A=data[:,0]\n",
        "B=data[:,1]\n",
        "#print(A)\n",
        "#print(B)\n",
        "import matplotlib.pyplot as plt#畫圖(分析)\n",
        "plt.scatter(A,B,s=100)\n",
        "#plt.show()\n",
        "#plt.saveing(\"hc.pdf\")#存圖檔在simple data\n",
        "import matplotlib.pyplot as plt\n",
        "plt.scatter(A,B,s=100)\n",
        "tex=range(1,11)\n",
        "for label ,x,y in zip(tex,A,B):\n",
        "  plt.annotate(\n",
        "      label,\n",
        "      xy=(x,y),\n",
        "      xytext=(-6,0),#負是往左/下(我們放左上)\n",
        "      textcoords=\"offset points\",ha=\"right\",va=\"bottom\")\n",
        "#plt.show()\n",
        "from sklearn.cluster import AgglomerativeClustering\n",
        "\n",
        "model = AgglomerativeClustering(n_clusters=2,metric=\"euclidean\",\n",
        "                  linkage=\"single\")#\n",
        "#print(model)\n",
        "label=model.fit_predict(data)\n",
        "#print(label)#數字一樣的是同一群(AB)(CDEFGHIJ)\n",
        "import matplotlib.pyplot as plt\n",
        "from matplotlib.colors import ListedColormap\n",
        "label=label\n",
        "colors=[\"yellow\",\"blue\"]\n",
        "plt.scatter(A,B,s=100,c=label,cmap=ListedColormap(colors))#放顏色進入:>\n",
        "tex=range(1,11)\n",
        "for label ,x,y in zip(tex,A,B):\n",
        "  plt.annotate(\n",
        "      label,\n",
        "      xy=(x,y),\n",
        "      xytext=(-6,0),#負是往左/下(我們放左上)\n",
        "      textcoords=\"offset points\",ha=\"right\",va=\"bottom\")\n",
        "plt.show()"
      ],
      "metadata": {
        "colab": {
          "base_uri": "https://localhost:8080/",
          "height": 430
        },
        "id": "GNpJsHThRa6C",
        "outputId": "18b94280-799a-42d5-83bc-a2807a6f28f7"
      },
      "execution_count": null,
      "outputs": [
        {
          "output_type": "display_data",
          "data": {
            "text/plain": [
              "<Figure size 640x480 with 1 Axes>"
            ],
            "image/png": "[encoded data removed]"
          },
          "metadata": {}
        }
      ]
    },
    {
      "cell_type": "code",
      "source": [
        "import pandas as pd\n",
        "data=pd.read_csv(\"HC.csv\")\n",
        "print(data)\n",
        "print(type(data))"
      ],
      "metadata": {
        "colab": {
          "base_uri": "https://localhost:8080/"
        },
        "id": "AjWuNL_MCj-T",
        "outputId": "19eb0738-9a42-479c-9f2a-d4bc041d0e76"
      },
      "execution_count": null,
      "outputs": [
        {
          "output_type": "stream",
          "name": "stdout",
          "text": [
            "     A    B\n",
            "0  1.0  1.0\n",
            "1  1.5  1.5\n",
            "2  5.0  5.0\n",
            "3  3.0  4.0\n",
            "4  4.0  4.0\n",
            "5  3.0  3.5\n",
            "6  4.0  5.0\n",
            "7  3.0  5.0\n",
            "8  5.0  6.0\n",
            "9  7.0  6.0\n",
            "<class 'pandas.core.frame.DataFrame'>\n"
          ]
        }
      ]
    },
    {
      "cell_type": "code",
      "source": [
        "#做矩陣\n",
        "data = data.to_numpy()\n",
        "print(data)\n",
        "print(type(data))"
      ],
      "metadata": {
        "colab": {
          "base_uri": "https://localhost:8080/"
        },
        "id": "29Opo7LhC4dq",
        "outputId": "3ccf95a8-98ff-4fea-9d8e-baea894fb6c8"
      },
      "execution_count": null,
      "outputs": [
        {
          "output_type": "stream",
          "name": "stdout",
          "text": [
            "[[1.  1. ]\n",
            " [1.5 1.5]\n",
            " [5.  5. ]\n",
            " [3.  4. ]\n",
            " [4.  4. ]\n",
            " [3.  3.5]\n",
            " [4.  5. ]\n",
            " [3.  5. ]\n",
            " [5.  6. ]\n",
            " [7.  6. ]]\n",
            "<class 'numpy.ndarray'>\n"
          ]
        }
      ]
    },
    {
      "cell_type": "code",
      "source": [
        "A=data[:,0]\n",
        "B=data[:,1]\n",
        "#print(A)\n",
        "#print(B)\n",
        "import matplotlib.pyplot as plt#畫圖(分析)\n",
        "plt.scatter(A,B,s=100)\n",
        "plt.show()\n",
        "#plt.saveing(\"hc.pdf\")#存圖檔在simple data\n",
        "\n"
      ],
      "metadata": {
        "colab": {
          "base_uri": "https://localhost:8080/",
          "height": 430
        },
        "id": "zBIqu_28DZqY",
        "outputId": "bccb33be-e080-4042-9ae9-48469f80794b"
      },
      "execution_count": null,
      "outputs": [
        {
          "output_type": "display_data",
          "data": {
            "text/plain": [
              "<Figure size 640x480 with 1 Axes>"
            ],
            "image/png": "[encoded data removed]"
          },
          "metadata": {}
        }
      ]
    },
    {
      "cell_type": "code",
      "source": [
        "a=[1,2,3]\n",
        "b=[\"A\",\"B\",\"C\",\"D\"]\n",
        "D=zip(a,b)\n",
        "print(list(D))"
      ],
      "metadata": {
        "colab": {
          "base_uri": "https://localhost:8080/"
        },
        "id": "JpT19o3zDwtZ",
        "outputId": "d4eba6d8-0d00-431f-d6d7-5f8fb635671c"
      },
      "execution_count": null,
      "outputs": [
        {
          "output_type": "stream",
          "name": "stdout",
          "text": [
            "[(1, 'A'), (2, 'B'), (3, 'C')]\n"
          ]
        }
      ]
    },
    {
      "cell_type": "code",
      "source": [
        "import matplotlib.pyplot as plt\n",
        "plt.scatter(A,B,s=100)\n",
        "tex=range(1,11)\n",
        "for label ,x,y in zip(tex,A,B):\n",
        "  plt.annotate(\n",
        "      label,\n",
        "      xy=(x,y),\n",
        "      xytext=(-6,0),#負是往左/下(我們放左上)\n",
        "      textcoords=\"offset points\",ha=\"right\",va=\"bottom\")\n",
        "plt.show()"
      ],
      "metadata": {
        "colab": {
          "base_uri": "https://localhost:8080/",
          "height": 430
        },
        "id": "z8uybTwOKfQd",
        "outputId": "45c23d43-ea22-474f-fb6e-4cf9d9bd485c"
      },
      "execution_count": null,
      "outputs": [
        {
          "output_type": "display_data",
          "data": {
            "text/plain": [
              "<Figure size 640x480 with 1 Axes>"
            ],
            "image/png": "[encoded data removed]"
          },
          "metadata": {}
        }
      ]
    },
    {
      "cell_type": "code",
      "source": [
        "from sklearn.cluster import AgglomerativeClustering\n",
        "\n",
        "model = AgglomerativeClustering(n_clusters=2,metric=\"euclidean\",\n",
        "                  linkage=\"single\")#\n",
        "#print(model)\n",
        "label=model.fit_predict(data)\n",
        "print(label)#數字一樣的是同一群(AB)(CDEFGHIJ)"
      ],
      "metadata": {
        "colab": {
          "base_uri": "https://localhost:8080/"
        },
        "id": "4w_pMkUzMMVb",
        "outputId": "0e1976ca-a43d-4a21-fd76-7cb972a1e0a9"
      },
      "execution_count": null,
      "outputs": [
        {
          "output_type": "stream",
          "name": "stdout",
          "text": [
            "[1 1 0 0 0 0 0 0 0 0]\n"
          ]
        }
      ]
    },
    {
      "cell_type": "code",
      "source": [
        "import matplotlib.pyplot as plt\n",
        "from matplotlib.colors import ListedColormap\n",
        "label=label\n",
        "colors=[\"red\",\"green\"]\n",
        "plt.scatter(A,B,s=100,c=label,cmap=ListedColormap(colors))#放顏色進入:>\n",
        "tex=range(1,11)\n",
        "for label ,x,y in zip(tex,A,B):\n",
        "  plt.annotate(\n",
        "      label,\n",
        "      xy=(x,y),\n",
        "      xytext=(-6,0),#負是往左/下(我們放左上)\n",
        "      textcoords=\"offset points\",ha=\"right\",va=\"bottom\")\n",
        "plt.show()"
      ],
      "metadata": {
        "colab": {
          "base_uri": "https://localhost:8080/",
          "height": 873
        },
        "id": "EftKCCQgOKin",
        "outputId": "5cd018f6-10f4-4189-f5e5-d72f1b6d0921"
      },
      "execution_count": null,
      "outputs": [
        {
          "output_type": "error",
          "ename": "ValueError",
          "evalue": "ignored",
          "traceback": [
            "\u001b[0;31m---------------------------------------------------------------------------\u001b[0m",
            "\u001b[0;31mTypeError\u001b[0m                                 Traceback (most recent call last)",
            "\u001b[0;32m/usr/local/lib/python3.10/dist-packages/matplotlib/axes/_axes.py\u001b[0m in \u001b[0;36m_parse_scatter_color_args\u001b[0;34m(c, edgecolors, kwargs, xsize, get_next_color_func)\u001b[0m\n\u001b[1;32m   4438\u001b[0m             \u001b[0;32mtry\u001b[0m\u001b[0;34m:\u001b[0m  \u001b[0;31m# Is 'c' acceptable as PathCollection facecolors?\u001b[0m\u001b[0;34m\u001b[0m\u001b[0;34m\u001b[0m\u001b[0m\n\u001b[0;32m-> 4439\u001b[0;31m                 \u001b[0mcolors\u001b[0m \u001b[0;34m=\u001b[0m \u001b[0mmcolors\u001b[0m\u001b[0;34m.\u001b[0m\u001b[0mto_rgba_array\u001b[0m\u001b[0;34m(\u001b[0m\u001b[0mc\u001b[0m\u001b[0;34m)\u001b[0m\u001b[0;34m\u001b[0m\u001b[0;34m\u001b[0m\u001b[0m\n\u001b[0m\u001b[1;32m   4440\u001b[0m             \u001b[0;32mexcept\u001b[0m \u001b[0;34m(\u001b[0m\u001b[0mTypeError\u001b[0m\u001b[0;34m,\u001b[0m \u001b[0mValueError\u001b[0m\u001b[0;34m)\u001b[0m \u001b[0;32mas\u001b[0m \u001b[0merr\u001b[0m\u001b[0;34m:\u001b[0m\u001b[0;34m\u001b[0m\u001b[0;34m\u001b[0m\u001b[0m\n",
            "\u001b[0;32m/usr/local/lib/python3.10/dist-packages/matplotlib/colors.py\u001b[0m in \u001b[0;36mto_rgba_array\u001b[0;34m(c, alpha)\u001b[0m\n\u001b[1;32m    472\u001b[0m \u001b[0;34m\u001b[0m\u001b[0m\n\u001b[0;32m--> 473\u001b[0;31m     \u001b[0;32mif\u001b[0m \u001b[0mlen\u001b[0m\u001b[0;34m(\u001b[0m\u001b[0mc\u001b[0m\u001b[0;34m)\u001b[0m \u001b[0;34m==\u001b[0m \u001b[0;36m0\u001b[0m\u001b[0;34m:\u001b[0m\u001b[0;34m\u001b[0m\u001b[0;34m\u001b[0m\u001b[0m\n\u001b[0m\u001b[1;32m    474\u001b[0m         \u001b[0;32mreturn\u001b[0m \u001b[0mnp\u001b[0m\u001b[0;34m.\u001b[0m\u001b[0mzeros\u001b[0m\u001b[0;34m(\u001b[0m\u001b[0;34m(\u001b[0m\u001b[0;36m0\u001b[0m\u001b[0;34m,\u001b[0m \u001b[0;36m4\u001b[0m\u001b[0;34m)\u001b[0m\u001b[0;34m,\u001b[0m \u001b[0mfloat\u001b[0m\u001b[0;34m)\u001b[0m\u001b[0;34m\u001b[0m\u001b[0;34m\u001b[0m\u001b[0m\n",
            "\u001b[0;31mTypeError\u001b[0m: len() of unsized object",
            "\nThe above exception was the direct cause of the following exception:\n",
            "\u001b[0;31mValueError\u001b[0m                                Traceback (most recent call last)",
            "\u001b[0;32m<ipython-input-182-98c78c691d71>\u001b[0m in \u001b[0;36m<cell line: 5>\u001b[0;34m()\u001b[0m\n\u001b[1;32m      3\u001b[0m \u001b[0mlabel\u001b[0m\u001b[0;34m=\u001b[0m\u001b[0mlabel\u001b[0m\u001b[0;34m\u001b[0m\u001b[0;34m\u001b[0m\u001b[0m\n\u001b[1;32m      4\u001b[0m \u001b[0mcolors\u001b[0m\u001b[0;34m=\u001b[0m\u001b[0;34m[\u001b[0m\u001b[0;34m\"red\"\u001b[0m\u001b[0;34m,\u001b[0m\u001b[0;34m\"green\"\u001b[0m\u001b[0;34m]\u001b[0m\u001b[0;34m\u001b[0m\u001b[0;34m\u001b[0m\u001b[0m\n\u001b[0;32m----> 5\u001b[0;31m \u001b[0mplt\u001b[0m\u001b[0;34m.\u001b[0m\u001b[0mscatter\u001b[0m\u001b[0;34m(\u001b[0m\u001b[0mA\u001b[0m\u001b[0;34m,\u001b[0m\u001b[0mB\u001b[0m\u001b[0;34m,\u001b[0m\u001b[0ms\u001b[0m\u001b[0;34m=\u001b[0m\u001b[0;36m100\u001b[0m\u001b[0;34m,\u001b[0m\u001b[0mc\u001b[0m\u001b[0;34m=\u001b[0m\u001b[0mlabel\u001b[0m\u001b[0;34m,\u001b[0m\u001b[0mcmap\u001b[0m\u001b[0;34m=\u001b[0m\u001b[0mListedColormap\u001b[0m\u001b[0;34m(\u001b[0m\u001b[0mcolors\u001b[0m\u001b[0;34m)\u001b[0m\u001b[0;34m)\u001b[0m\u001b[0;31m#放顏色進入:>\u001b[0m\u001b[0;34m\u001b[0m\u001b[0;34m\u001b[0m\u001b[0m\n\u001b[0m\u001b[1;32m      6\u001b[0m \u001b[0mtex\u001b[0m\u001b[0;34m=\u001b[0m\u001b[0mrange\u001b[0m\u001b[0;34m(\u001b[0m\u001b[0;36m1\u001b[0m\u001b[0;34m,\u001b[0m\u001b[0;36m11\u001b[0m\u001b[0;34m)\u001b[0m\u001b[0;34m\u001b[0m\u001b[0;34m\u001b[0m\u001b[0m\n\u001b[1;32m      7\u001b[0m \u001b[0;32mfor\u001b[0m \u001b[0mlabel\u001b[0m \u001b[0;34m,\u001b[0m\u001b[0mx\u001b[0m\u001b[0;34m,\u001b[0m\u001b[0my\u001b[0m \u001b[0;32min\u001b[0m \u001b[0mzip\u001b[0m\u001b[0;34m(\u001b[0m\u001b[0mtex\u001b[0m\u001b[0;34m,\u001b[0m\u001b[0mA\u001b[0m\u001b[0;34m,\u001b[0m\u001b[0mB\u001b[0m\u001b[0;34m)\u001b[0m\u001b[0;34m:\u001b[0m\u001b[0;34m\u001b[0m\u001b[0;34m\u001b[0m\u001b[0m\n",
            "\u001b[0;32m/usr/local/lib/python3.10/dist-packages/matplotlib/pyplot.py\u001b[0m in \u001b[0;36mscatter\u001b[0;34m(x, y, s, c, marker, cmap, norm, vmin, vmax, alpha, linewidths, edgecolors, plotnonfinite, data, **kwargs)\u001b[0m\n\u001b[1;32m   2860\u001b[0m         \u001b[0mvmin\u001b[0m\u001b[0;34m=\u001b[0m\u001b[0;32mNone\u001b[0m\u001b[0;34m,\u001b[0m \u001b[0mvmax\u001b[0m\u001b[0;34m=\u001b[0m\u001b[0;32mNone\u001b[0m\u001b[0;34m,\u001b[0m \u001b[0malpha\u001b[0m\u001b[0;34m=\u001b[0m\u001b[0;32mNone\u001b[0m\u001b[0;34m,\u001b[0m \u001b[0mlinewidths\u001b[0m\u001b[0;34m=\u001b[0m\u001b[0;32mNone\u001b[0m\u001b[0;34m,\u001b[0m \u001b[0;34m*\u001b[0m\u001b[0;34m,\u001b[0m\u001b[0;34m\u001b[0m\u001b[0;34m\u001b[0m\u001b[0m\n\u001b[1;32m   2861\u001b[0m         edgecolors=None, plotnonfinite=False, data=None, **kwargs):\n\u001b[0;32m-> 2862\u001b[0;31m     __ret = gca().scatter(\n\u001b[0m\u001b[1;32m   2863\u001b[0m         \u001b[0mx\u001b[0m\u001b[0;34m,\u001b[0m \u001b[0my\u001b[0m\u001b[0;34m,\u001b[0m \u001b[0ms\u001b[0m\u001b[0;34m=\u001b[0m\u001b[0ms\u001b[0m\u001b[0;34m,\u001b[0m \u001b[0mc\u001b[0m\u001b[0;34m=\u001b[0m\u001b[0mc\u001b[0m\u001b[0;34m,\u001b[0m \u001b[0mmarker\u001b[0m\u001b[0;34m=\u001b[0m\u001b[0mmarker\u001b[0m\u001b[0;34m,\u001b[0m \u001b[0mcmap\u001b[0m\u001b[0;34m=\u001b[0m\u001b[0mcmap\u001b[0m\u001b[0;34m,\u001b[0m \u001b[0mnorm\u001b[0m\u001b[0;34m=\u001b[0m\u001b[0mnorm\u001b[0m\u001b[0;34m,\u001b[0m\u001b[0;34m\u001b[0m\u001b[0;34m\u001b[0m\u001b[0m\n\u001b[1;32m   2864\u001b[0m         \u001b[0mvmin\u001b[0m\u001b[0;34m=\u001b[0m\u001b[0mvmin\u001b[0m\u001b[0;34m,\u001b[0m \u001b[0mvmax\u001b[0m\u001b[0;34m=\u001b[0m\u001b[0mvmax\u001b[0m\u001b[0;34m,\u001b[0m \u001b[0malpha\u001b[0m\u001b[0;34m=\u001b[0m\u001b[0malpha\u001b[0m\u001b[0;34m,\u001b[0m \u001b[0mlinewidths\u001b[0m\u001b[0;34m=\u001b[0m\u001b[0mlinewidths\u001b[0m\u001b[0;34m,\u001b[0m\u001b[0;34m\u001b[0m\u001b[0;34m\u001b[0m\u001b[0m\n",
            "\u001b[0;32m/usr/local/lib/python3.10/dist-packages/matplotlib/__init__.py\u001b[0m in \u001b[0;36minner\u001b[0;34m(ax, data, *args, **kwargs)\u001b[0m\n\u001b[1;32m   1440\u001b[0m     \u001b[0;32mdef\u001b[0m \u001b[0minner\u001b[0m\u001b[0;34m(\u001b[0m\u001b[0max\u001b[0m\u001b[0;34m,\u001b[0m \u001b[0;34m*\u001b[0m\u001b[0margs\u001b[0m\u001b[0;34m,\u001b[0m \u001b[0mdata\u001b[0m\u001b[0;34m=\u001b[0m\u001b[0;32mNone\u001b[0m\u001b[0;34m,\u001b[0m \u001b[0;34m**\u001b[0m\u001b[0mkwargs\u001b[0m\u001b[0;34m)\u001b[0m\u001b[0;34m:\u001b[0m\u001b[0;34m\u001b[0m\u001b[0;34m\u001b[0m\u001b[0m\n\u001b[1;32m   1441\u001b[0m         \u001b[0;32mif\u001b[0m \u001b[0mdata\u001b[0m \u001b[0;32mis\u001b[0m \u001b[0;32mNone\u001b[0m\u001b[0;34m:\u001b[0m\u001b[0;34m\u001b[0m\u001b[0;34m\u001b[0m\u001b[0m\n\u001b[0;32m-> 1442\u001b[0;31m             \u001b[0;32mreturn\u001b[0m \u001b[0mfunc\u001b[0m\u001b[0;34m(\u001b[0m\u001b[0max\u001b[0m\u001b[0;34m,\u001b[0m \u001b[0;34m*\u001b[0m\u001b[0mmap\u001b[0m\u001b[0;34m(\u001b[0m\u001b[0msanitize_sequence\u001b[0m\u001b[0;34m,\u001b[0m \u001b[0margs\u001b[0m\u001b[0;34m)\u001b[0m\u001b[0;34m,\u001b[0m \u001b[0;34m**\u001b[0m\u001b[0mkwargs\u001b[0m\u001b[0;34m)\u001b[0m\u001b[0;34m\u001b[0m\u001b[0;34m\u001b[0m\u001b[0m\n\u001b[0m\u001b[1;32m   1443\u001b[0m \u001b[0;34m\u001b[0m\u001b[0m\n\u001b[1;32m   1444\u001b[0m         \u001b[0mbound\u001b[0m \u001b[0;34m=\u001b[0m \u001b[0mnew_sig\u001b[0m\u001b[0;34m.\u001b[0m\u001b[0mbind\u001b[0m\u001b[0;34m(\u001b[0m\u001b[0max\u001b[0m\u001b[0;34m,\u001b[0m \u001b[0;34m*\u001b[0m\u001b[0margs\u001b[0m\u001b[0;34m,\u001b[0m \u001b[0;34m**\u001b[0m\u001b[0mkwargs\u001b[0m\u001b[0;34m)\u001b[0m\u001b[0;34m\u001b[0m\u001b[0;34m\u001b[0m\u001b[0m\n",
            "\u001b[0;32m/usr/local/lib/python3.10/dist-packages/matplotlib/axes/_axes.py\u001b[0m in \u001b[0;36mscatter\u001b[0;34m(self, x, y, s, c, marker, cmap, norm, vmin, vmax, alpha, linewidths, edgecolors, plotnonfinite, **kwargs)\u001b[0m\n\u001b[1;32m   4600\u001b[0m             \u001b[0morig_edgecolor\u001b[0m \u001b[0;34m=\u001b[0m \u001b[0mkwargs\u001b[0m\u001b[0;34m.\u001b[0m\u001b[0mget\u001b[0m\u001b[0;34m(\u001b[0m\u001b[0;34m'edgecolor'\u001b[0m\u001b[0;34m,\u001b[0m \u001b[0;32mNone\u001b[0m\u001b[0;34m)\u001b[0m\u001b[0;34m\u001b[0m\u001b[0;34m\u001b[0m\u001b[0m\n\u001b[1;32m   4601\u001b[0m         \u001b[0mc\u001b[0m\u001b[0;34m,\u001b[0m \u001b[0mcolors\u001b[0m\u001b[0;34m,\u001b[0m \u001b[0medgecolors\u001b[0m \u001b[0;34m=\u001b[0m\u001b[0;31m \u001b[0m\u001b[0;31m\\\u001b[0m\u001b[0;34m\u001b[0m\u001b[0;34m\u001b[0m\u001b[0m\n\u001b[0;32m-> 4602\u001b[0;31m             self._parse_scatter_color_args(\n\u001b[0m\u001b[1;32m   4603\u001b[0m                 \u001b[0mc\u001b[0m\u001b[0;34m,\u001b[0m \u001b[0medgecolors\u001b[0m\u001b[0;34m,\u001b[0m \u001b[0mkwargs\u001b[0m\u001b[0;34m,\u001b[0m \u001b[0mx\u001b[0m\u001b[0;34m.\u001b[0m\u001b[0msize\u001b[0m\u001b[0;34m,\u001b[0m\u001b[0;34m\u001b[0m\u001b[0;34m\u001b[0m\u001b[0m\n\u001b[1;32m   4604\u001b[0m                 get_next_color_func=self._get_patches_for_fill.get_next_color)\n",
            "\u001b[0;32m/usr/local/lib/python3.10/dist-packages/matplotlib/axes/_axes.py\u001b[0m in \u001b[0;36m_parse_scatter_color_args\u001b[0;34m(c, edgecolors, kwargs, xsize, get_next_color_func)\u001b[0m\n\u001b[1;32m   4443\u001b[0m                 \u001b[0;32melse\u001b[0m\u001b[0;34m:\u001b[0m\u001b[0;34m\u001b[0m\u001b[0;34m\u001b[0m\u001b[0m\n\u001b[1;32m   4444\u001b[0m                     \u001b[0;32mif\u001b[0m \u001b[0;32mnot\u001b[0m \u001b[0mvalid_shape\u001b[0m\u001b[0;34m:\u001b[0m\u001b[0;34m\u001b[0m\u001b[0;34m\u001b[0m\u001b[0m\n\u001b[0;32m-> 4445\u001b[0;31m                         \u001b[0;32mraise\u001b[0m \u001b[0minvalid_shape_exception\u001b[0m\u001b[0;34m(\u001b[0m\u001b[0mc\u001b[0m\u001b[0;34m.\u001b[0m\u001b[0msize\u001b[0m\u001b[0;34m,\u001b[0m \u001b[0mxsize\u001b[0m\u001b[0;34m)\u001b[0m \u001b[0;32mfrom\u001b[0m \u001b[0merr\u001b[0m\u001b[0;34m\u001b[0m\u001b[0;34m\u001b[0m\u001b[0m\n\u001b[0m\u001b[1;32m   4446\u001b[0m                     \u001b[0;31m# Both the mapping *and* the RGBA conversion failed: pretty\u001b[0m\u001b[0;34m\u001b[0m\u001b[0;34m\u001b[0m\u001b[0m\n\u001b[1;32m   4447\u001b[0m                     \u001b[0;31m# severe failure => one may appreciate a verbose feedback.\u001b[0m\u001b[0;34m\u001b[0m\u001b[0;34m\u001b[0m\u001b[0m\n",
            "\u001b[0;31mValueError\u001b[0m: 'c' argument has 1 elements, which is inconsistent with 'x' and 'y' with size 10."
          ]
        },
        {
          "output_type": "display_data",
          "data": {
            "text/plain": [
              "<Figure size 640x480 with 1 Axes>"
            ],
            "image/png": "[encoded data removed]"
          },
          "metadata": {}
        }
      ]
    },
    {
      "cell_type": "code",
      "source": [
        "from scipy import show_numpy_config\n",
        "d1 =[1,2,3]\n",
        "d2 = [10,11,12]\n",
        "d3 = [20,21,22]\n",
        "def sum_of_squares(data):\n",
        "  mean=sum(data)/len(data)\n",
        "  squared_diff=[]\n",
        "  for x in data:\n",
        "    squared = (x-mean)**2\n",
        "    squared_diff.append(squared)\n",
        "  sum_of_squares=sum(squared_diff)\n",
        "  return(sum_of_squares)\n",
        "\n",
        "ss_d=sum_of_squares(d1)+sum_of_squares(d2)+sum_of_squares(d3)\n",
        "print(ss_d)\n",
        "\n",
        "e1 = [1,2,3,10]\n",
        "e2 = [11,12,20,21,22]\n",
        "ss_e=sum_of_squares(e1)+sum_of_squares(e2)\n",
        "print(ss_e)"
      ],
      "metadata": {
        "colab": {
          "base_uri": "https://localhost:8080/"
        },
        "id": "TlIfftPgP_MN",
        "outputId": "4a116976-6049-4671-b23d-1b5e93fcbc70"
      },
      "execution_count": null,
      "outputs": [
        {
          "output_type": "stream",
          "name": "stdout",
          "text": [
            "6.0\n",
            "160.8\n"
          ]
        }
      ]
    },
    {
      "cell_type": "markdown",
      "source": [
        "--------------------------------------------------------------------------------------------------------------------------------------------------7/6\n",
        "\n",
        "\n",
        "```\n",
        "# 此內容會顯示為程式碼\n",
        "```\n",
        "\n"
      ],
      "metadata": {
        "id": "weO1lEQVxAbQ"
      }
    },
    {
      "cell_type": "code",
      "source": [
        "import pandas as pd\n",
        "d1=pd.read_csv(\"A.csv\")\n",
        "d2=pd.read_csv(\"B.csv\")\n",
        "print(d1)\n",
        "print(\"\")\n",
        "print(d2)\n",
        "print(\"\")\n",
        "dd=pd.merge(d1,d2,on=\"ID\",how=\"outer\")\n",
        "print(dd)\n",
        "print(\"\")\n",
        "dd2=pd.merge(d1,d2,on=\"ID\",how=\"inner\")\n",
        "print(dd2)\n",
        "print(\"-------------------------------------------------------------------------------------------------\")\n",
        "dd.to_csv(\"dd.csv\",header=True)#存csv檔"
      ],
      "metadata": {
        "id": "QOxIVdE7ZJS1",
        "colab": {
          "base_uri": "https://localhost:8080/"
        },
        "outputId": "0abefe1a-e40f-4456-f753-2ed98fec4d6f"
      },
      "execution_count": null,
      "outputs": [
        {
          "output_type": "stream",
          "name": "stdout",
          "text": [
            "     ID  A  B   C\n",
            "0  1001  1  5   9\n",
            "1  1002  2  6  10\n",
            "2  1003  3  7  11\n",
            "3  1004  4  8  12\n",
            "\n",
            "     ID  D  E   F\n",
            "0  1001  1  5   9\n",
            "1  1003  3  7  11\n",
            "2  1004  4  8  12\n",
            "3  1005  4  5   6\n",
            "\n",
            "     ID    A    B     C    D    E     F\n",
            "0  1001  1.0  5.0   9.0  1.0  5.0   9.0\n",
            "1  1002  2.0  6.0  10.0  NaN  NaN   NaN\n",
            "2  1003  3.0  7.0  11.0  3.0  7.0  11.0\n",
            "3  1004  4.0  8.0  12.0  4.0  8.0  12.0\n",
            "4  1005  NaN  NaN   NaN  4.0  5.0   6.0\n",
            "\n",
            "     ID  A  B   C  D  E   F\n",
            "0  1001  1  5   9  1  5   9\n",
            "1  1003  3  7  11  3  7  11\n",
            "2  1004  4  8  12  4  8  12\n"
          ]
        }
      ]
    },
    {
      "cell_type": "markdown",
      "source": [
        "---------------------------------------------------------K-means\n"
      ],
      "metadata": {
        "id": "r-ViUdV0FsPo"
      }
    },
    {
      "cell_type": "code",
      "source": [],
      "metadata": {
        "colab": {
          "base_uri": "https://localhost:8080/"
        },
        "id": "98SOkdVDFwiY",
        "outputId": "673a176d-0c96-4d1e-ddae-ec93492d6eca"
      },
      "execution_count": null,
      "outputs": [
        {
          "output_type": "stream",
          "name": "stdout",
          "text": [
            "     A    B\n",
            "0  1.0  1.0\n",
            "1  1.5  1.5\n",
            "2  5.0  5.0\n",
            "3  3.0  4.0\n",
            "4  4.0  4.0\n",
            "5  3.0  3.5\n",
            "6  4.0  5.0\n",
            "7  3.0  5.0\n",
            "8  5.0  6.0\n",
            "9  7.0  6.0\n"
          ]
        }
      ]
    },
    {
      "cell_type": "code",
      "source": [],
      "metadata": {
        "id": "nS5QtkZzSUKG"
      },
      "execution_count": null,
      "outputs": []
    },
    {
      "cell_type": "code",
      "source": [
        "#KMeans\n",
        "import pandas as pd\n",
        "data=pd.read_csv(\"HC.csv\")\n",
        "print(data)\n",
        "from yellowbrick.cluster import KElbowVisualizer\n",
        "from sklearn.cluster import KMeans\n",
        "\n",
        "mod=KMeans(n_init=4)\n",
        "visualizer= KElbowVisualizer(mod,k=(1,10),timings=False)#True)\n",
        "visualizer.fit(data)\n",
        "visualizer.show()\n",
        "print(\"-------------------------------------------------------------------------------------------------\")\n",
        "model = KMeans(n_init=10,n_clusters=2).fit(data)\n",
        "print(model)\n",
        "label = model.predict(data)\n",
        "print(label)\n",
        "print(model.cluster_centers_)\n",
        "print(\"-------------------------------------------------------------------------------------------------\")\n",
        "import matplotlib.pyplot as plt\n",
        "from matplotlib.colors import ListedColormap\n",
        "label=label\n",
        "colors = [\"red\",\"green\"]\n",
        "data=data.to_numpy()\n",
        "A=data[:,0]\n",
        "B=data[:,1]\n",
        "plt.scatter(A,B,c=label,cmap=ListedColormap(colors))\n",
        "plt.show()\n"
      ],
      "metadata": {
        "colab": {
          "base_uri": "https://localhost:8080/",
          "height": 1000
        },
        "id": "1gV4yL5iF2GX",
        "outputId": "7bec2f53-2f33-4b5c-8ebd-2ce08508ca21"
      },
      "execution_count": null,
      "outputs": [
        {
          "output_type": "stream",
          "name": "stdout",
          "text": [
            "     A    B\n",
            "0  1.0  1.0\n",
            "1  1.5  1.5\n",
            "2  5.0  5.0\n",
            "3  3.0  4.0\n",
            "4  4.0  4.0\n",
            "5  3.0  3.5\n",
            "6  4.0  5.0\n",
            "7  3.0  5.0\n",
            "8  5.0  6.0\n",
            "9  7.0  6.0\n"
          ]
        },
        {
          "output_type": "display_data",
          "data": {
            "text/plain": [
              "<Figure size 800x550 with 1 Axes>"
            ],
            "image/png": "[encoded data removed]"
          },
          "metadata": {}
        },
        {
          "output_type": "stream",
          "name": "stdout",
          "text": [
            "-------------------------------------------------------------------------------------------------\n",
            "KMeans(n_clusters=2, n_init=10)\n",
            "[0 0 1 1 1 1 1 1 1 1]\n",
            "[[1.25   1.25  ]\n",
            " [4.25   4.8125]]\n",
            "-------------------------------------------------------------------------------------------------\n"
          ]
        },
        {
          "output_type": "display_data",
          "data": {
            "text/plain": [
              "<Figure size 800x550 with 1 Axes>"
            ],
            "image/png": "[encoded data removed]"
          },
          "metadata": {}
        }
      ]
    },
    {
      "cell_type": "code",
      "source": [],
      "metadata": {
        "id": "jbmUdeP3G26K"
      },
      "execution_count": null,
      "outputs": []
    },
    {
      "cell_type": "markdown",
      "source": [
        "-----------------------------------------------------------------------------DBSCAN"
      ],
      "metadata": {
        "id": "5kUm4d-irsuO"
      }
    },
    {
      "cell_type": "code",
      "source": [
        "#DBSCAN\n",
        "import pandas as pd\n",
        "data=pd.read_csv(\"multishapes.csv\")\n",
        "print(data)\n",
        "print(\"-------------------------------------------------------------------------------------------------\")#作圖找點\n",
        "import matplotlib.pyplot as plt\n",
        "plt.scatter(data.loc[:,\"x\"],data.loc[:,\"y\"],s=30)\n",
        "plt.show()\n",
        "print(\"-------------------------------------------------------------------------------------------------\")#估計eps\n",
        "from sklearn.neighbors import NearestNeighbors\n",
        "model = NearestNeighbors(n_neighbors=2).fit(data)\n",
        "print(model)#自己跟自己的距離=>0 還有跟別人的距離\n",
        "print(\"-------------------------------------------------------------------------------------------------\")#算距離\n",
        "distances=model.kneighbors(data)\n",
        "print(distances)\n",
        "print(distances[0])\n",
        "distances=distances[0]#我只要distances[0]不用剩下的\n",
        "print(\"-------------------------------------------------------------------------------------------------\")#取各距離比較\n",
        "import numpy as np\n",
        "distances = np.sort(distances[:,1])\n",
        "print(distances)\n",
        "print(\"-------------------------------------------------------------------------------------------------\")#color\n",
        "from matplotlib import pyplot as plt\n",
        "plt.plot(distances)\n",
        "plt.axhline(y=0.15,color=\"red\",linestyle=\"-\")\n",
        "plt.show()#因此eps選擇0.1~0.5 不會到1\n",
        "print(\"-------------------------------------------------------------------------------------------------\")#取eps\n",
        "from sklearn.cluster import DBSCAN\n",
        "model = DBSCAN(eps=0.15,min_samples=5)#3)#\n",
        "print(model)\n",
        "print(\"-------------------------------------------------------------------------------------------------\")#分群結果\n",
        "label = model.fit_predict(data)\n",
        "print(label)\n",
        "print(len(label))\n",
        "print(\"-------------------------------------------------------------------------------------------------\")#分5群 但有outlier 所以要6個顏色\n",
        "import matplotlib.pyplot as plt                                    #幫不同群分顏色\n",
        "from matplotlib.colors import ListedColormap\n",
        "\n",
        "label=label\n",
        "colors=[\"yellow\",\"red\",\"blue\",\"green\",\"black\",\"brown\"]\n",
        "plt.scatter(data.loc[:,\"x\"],data.loc[:,\"y\"],c=label,cmap=ListedColormap(colors))\n",
        "plt.show()"
      ],
      "metadata": {
        "colab": {
          "base_uri": "https://localhost:8080/",
          "height": 1000
        },
        "id": "AtfSlfpur362",
        "outputId": "7d53ca92-233b-4cbd-8cbd-fb0e1d5394dd"
      },
      "execution_count": null,
      "outputs": [
        {
          "output_type": "stream",
          "name": "stdout",
          "text": [
            "             x         y\n",
            "0    -0.803739 -0.853053\n",
            "1     0.852851  0.367618\n",
            "2     0.927180 -0.274902\n",
            "3    -0.752626 -0.511565\n",
            "4     0.706846  0.810679\n",
            "...        ...       ...\n",
            "1095  0.956063 -2.473828\n",
            "1096  0.930758 -2.366531\n",
            "1097  0.989555 -2.475225\n",
            "1098  0.979200 -2.637578\n",
            "1099  1.121931 -2.619054\n",
            "\n",
            "[1100 rows x 2 columns]\n",
            "-------------------------------------------------------------------------------------------------\n"
          ]
        },
        {
          "output_type": "display_data",
          "data": {
            "text/plain": [
              "<Figure size 800x550 with 1 Axes>"
            ],
            "image/png": "[encoded data removed]"
          },
          "metadata": {}
        },
        {
          "output_type": "stream",
          "name": "stdout",
          "text": [
            "-------------------------------------------------------------------------------------------------\n",
            "NearestNeighbors(n_neighbors=2)\n",
            "-------------------------------------------------------------------------------------------------\n",
            "(array([[0.        , 0.0279133 ],\n",
            "       [0.        , 0.06016311],\n",
            "       [0.        , 0.0364806 ],\n",
            "       ...,\n",
            "       [0.        , 0.01079333],\n",
            "       [0.        , 0.04274495],\n",
            "       [0.        , 0.01011126]]), array([[   0,  329],\n",
            "       [   1,  212],\n",
            "       [   2,  222],\n",
            "       ...,\n",
            "       [1097, 1059],\n",
            "       [1098, 1074],\n",
            "       [1099, 1079]]))\n",
            "[[0.         0.0279133 ]\n",
            " [0.         0.06016311]\n",
            " [0.         0.0364806 ]\n",
            " ...\n",
            " [0.         0.01079333]\n",
            " [0.         0.04274495]\n",
            " [0.         0.01011126]]\n",
            "-------------------------------------------------------------------------------------------------\n",
            "[0.00154757 0.00154757 0.0015648  ... 0.3731041  0.4082026  0.51336079]\n",
            "-------------------------------------------------------------------------------------------------\n"
          ]
        },
        {
          "output_type": "display_data",
          "data": {
            "text/plain": [
              "<Figure size 800x550 with 1 Axes>"
            ],
            "image/png": "[encoded data removed]"
          },
          "metadata": {}
        },
        {
          "output_type": "stream",
          "name": "stdout",
          "text": [
            "-------------------------------------------------------------------------------------------------\n",
            "DBSCAN(eps=0.15)\n",
            "-------------------------------------------------------------------------------------------------\n",
            "[0 0 0 ... 4 4 4]\n",
            "1100\n",
            "-------------------------------------------------------------------------------------------------\n"
          ]
        },
        {
          "output_type": "display_data",
          "data": {
            "text/plain": [
              "<Figure size 800x550 with 1 Axes>"
            ],
            "image/png": "[encoded data removed]"
          },
          "metadata": {}
        }
      ]
    },
    {
      "cell_type": "code",
      "source": [],
      "metadata": {
        "id": "_Pue8654wgmW"
      },
      "execution_count": null,
      "outputs": []
    },
    {
      "cell_type": "markdown",
      "source": [
        "-----------------------------------------------------------------------------entropy"
      ],
      "metadata": {
        "id": "_pljZ2dCJsbY"
      }
    },
    {
      "cell_type": "code",
      "source": [
        "#entropy\n",
        "import pandas as pd\n",
        "data=pd.read_csv(\"playtennis.csv\")\n",
        "print(data)\n",
        "print(\"-------------------------------------------------------------------------------------------------\")#將string轉數字\n",
        "from sklearn.preprocessing import LabelEncoder\n",
        "le=LabelEncoder()\n",
        "data = data.apply(le.fit_transform)\n",
        "print(data)\n",
        "print(type(data))\n",
        "print(\"-------------------------------------------------------------------------------------------------\")#x(attribute) y(label)分開\n",
        "X = data.iloc[:,0:4]\n",
        "Y=data.iloc[:,4]\n",
        "print(X,\"\\n\",Y)\n",
        "print(\"-------------------------------------------------------------------------------------------------\")#決策樹分類\n",
        "from sklearn.tree import DecisionTreeClassifier\n",
        "model = DecisionTreeClassifier(criterion=\"entropy\",max_depth=3).fit(X,Y)#最多做3層\n",
        "print(model)\n",
        "print(\"-------------------------------------------------------------------------------------------------\")#看(overcase=0 hot=1 high=0 strong=0) --> predict --> 建dataframe\n",
        "print(data.columns)\n",
        "new = {\"outlook\":[0],\"temperature\":[1],\"humidity\":[0],\"wind\":[0]}#\n",
        "#print(type(new))\n",
        "new = pd.DataFrame(new)#將dict轉成dataframe\n",
        "#print(type(new))\n",
        "print(new)\n",
        "print(\"-------------------------------------------------------------------------------------------------\")#predict new\n",
        "pred_new = model.predict(new)\n",
        "print(pred_new)#預測new(overcase=0 hot=1 high=0 strong=0)的結果--> 1=yes 0=no\n",
        "pred_all=model.predict(X)\n",
        "print(pred_all)#預測全部\n",
        "print(\"-------------------------------------------------------------------------------------------------\")#combine\n",
        "#print(Y)\n",
        "import numpy as np\n",
        "com= np.vstack((Y,pred_all))#預測不是完全準確(會有些微誤差)\n",
        "print(com)\n",
        "print(\"-------------------------------------------------------------------------------------------------\")#算答對率\n",
        "acc=(len(Y)-abs(Y-pred_all).sum())/len(Y)\n",
        "print(\"答對率 =\",acc)"
      ],
      "metadata": {
        "colab": {
          "base_uri": "https://localhost:8080/"
        },
        "id": "muAO9cZ9JwTf",
        "outputId": "629e4542-b24b-4ba9-87ce-14d4bc351a39"
      },
      "execution_count": null,
      "outputs": [
        {
          "output_type": "stream",
          "name": "stdout",
          "text": [
            "     outlook temperature humidity    wind playtennis\n",
            "0      sunny         hot     high    weak         no\n",
            "1      sunny         hot     high  strong         no\n",
            "2   overcast         hot     high    weak        yes\n",
            "3       rain        mild     high    weak        yes\n",
            "4       rain        cool   normal    weak        yes\n",
            "5       rain        cool   normal  strong         no\n",
            "6   overcast        cool   normal  strong        yes\n",
            "7      sunny        mild     high    weak         no\n",
            "8      sunny        cool   normal    weak        yes\n",
            "9       rain        mild   normal    weak        yes\n",
            "10     sunny        mild   normal  strong        yes\n",
            "11  overcast        mild     high  strong        yes\n",
            "12  overcast         hot   normal    weak        yes\n",
            "13      rain        mild     high  strong         no\n",
            "-------------------------------------------------------------------------------------------------\n",
            "    outlook  temperature  humidity  wind  playtennis\n",
            "0         2            1         0     1           0\n",
            "1         2            1         0     0           0\n",
            "2         0            1         0     1           1\n",
            "3         1            2         0     1           1\n",
            "4         1            0         1     1           1\n",
            "5         1            0         1     0           0\n",
            "6         0            0         1     0           1\n",
            "7         2            2         0     1           0\n",
            "8         2            0         1     1           1\n",
            "9         1            2         1     1           1\n",
            "10        2            2         1     0           1\n",
            "11        0            2         0     0           1\n",
            "12        0            1         1     1           1\n",
            "13        1            2         0     0           0\n",
            "<class 'pandas.core.frame.DataFrame'>\n",
            "-------------------------------------------------------------------------------------------------\n",
            "    outlook  temperature  humidity  wind\n",
            "0         2            1         0     1\n",
            "1         2            1         0     0\n",
            "2         0            1         0     1\n",
            "3         1            2         0     1\n",
            "4         1            0         1     1\n",
            "5         1            0         1     0\n",
            "6         0            0         1     0\n",
            "7         2            2         0     1\n",
            "8         2            0         1     1\n",
            "9         1            2         1     1\n",
            "10        2            2         1     0\n",
            "11        0            2         0     0\n",
            "12        0            1         1     1\n",
            "13        1            2         0     0 \n",
            " 0     0\n",
            "1     0\n",
            "2     1\n",
            "3     1\n",
            "4     1\n",
            "5     0\n",
            "6     1\n",
            "7     0\n",
            "8     1\n",
            "9     1\n",
            "10    1\n",
            "11    1\n",
            "12    1\n",
            "13    0\n",
            "Name: playtennis, dtype: int64\n",
            "-------------------------------------------------------------------------------------------------\n",
            "DecisionTreeClassifier(criterion='entropy', max_depth=3)\n",
            "-------------------------------------------------------------------------------------------------\n",
            "Index(['outlook', 'temperature', 'humidity', 'wind', 'playtennis'], dtype='object')\n",
            "   outlook  temperature  humidity  wind\n",
            "0        0            1         0     0\n",
            "-------------------------------------------------------------------------------------------------\n",
            "[1]\n",
            "[0 0 1 0 1 0 1 0 1 1 0 1 1 0]\n",
            "-------------------------------------------------------------------------------------------------\n",
            "[[0 0 1 1 1 0 1 0 1 1 1 1 1 0]\n",
            " [0 0 1 0 1 0 1 0 1 1 0 1 1 0]]\n",
            "-------------------------------------------------------------------------------------------------\n",
            "答對率 = 0.8571428571428571\n"
          ]
        }
      ]
    },
    {
      "cell_type": "code",
      "source": [],
      "metadata": {
        "id": "q94KZS1AJ48v"
      },
      "execution_count": null,
      "outputs": []
    },
    {
      "cell_type": "markdown",
      "source": [
        "--------------------------------------------------------------------------------------------------------------------------------------------------regression演算法\n"
      ],
      "metadata": {
        "id": "QdGmiTNBZrNG"
      }
    },
    {
      "cell_type": "code",
      "source": [
        "#regression\n",
        "import pandas as pd\n",
        "data=pd.read_csv(\"MultipleR.csv\")\n",
        "print(data)\n",
        "print(\"-------------------------------------------------------------------------------------------------\")#用X1 X2預測Y -->預測方程式\n",
        "X = data.drop([\"Y\"],axis=1) #(X=all-Y)\n",
        "#print(X)\n",
        "Y = data[\"Y\"]\n",
        "print(X,\"\\n\",Y)\n",
        "print(\"-------------------------------------------------------------------------------------------------\")#做linar regression\n",
        "from sklearn.linear_model import LinearRegression\n",
        "model = LinearRegression().fit(X,Y)\n",
        "print(model)\n",
        "print(model.coef_)\n",
        "print(model.intercept_)#結果: y=-68.857(平均)+1.455(X1)+9.366(X2)\n",
        "#y為連續型變數 x可為連續型或間段型"
      ],
      "metadata": {
        "colab": {
          "base_uri": "https://localhost:8080/"
        },
        "id": "HX9zitXBZwyG",
        "outputId": "9fbc865a-0f8d-4cbc-b647-5ce046d4cde8"
      },
      "execution_count": null,
      "outputs": [
        {
          "output_type": "stream",
          "name": "stdout",
          "text": [
            "      X1    X2      Y\n",
            "0   68.5  16.7  174.4\n",
            "1   45.2  16.8  164.4\n",
            "2   91.3  18.2  244.2\n",
            "3   47.8  16.3  154.6\n",
            "4   46.9  17.3  181.6\n",
            "5   66.1  18.2  207.5\n",
            "6   49.5  15.9  152.8\n",
            "7   52.0  17.2  163.2\n",
            "8   48.9  16.6  145.4\n",
            "9   38.4  16.0  137.2\n",
            "10  87.9  18.3  241.9\n",
            "11  72.8  17.1  191.1\n",
            "12  88.4  17.4  232.0\n",
            "13  42.9  15.8  145.3\n",
            "14  52.5  17.8  161.1\n",
            "15  85.7  18.4  209.7\n",
            "16  41.3  16.5  146.4\n",
            "17  51.7  16.3  144.0\n",
            "18  89.6  18.1  232.6\n",
            "19  82.7  19.1  224.1\n",
            "20  52.3  16.0  166.5\n",
            "-------------------------------------------------------------------------------------------------\n",
            "      X1    X2\n",
            "0   68.5  16.7\n",
            "1   45.2  16.8\n",
            "2   91.3  18.2\n",
            "3   47.8  16.3\n",
            "4   46.9  17.3\n",
            "5   66.1  18.2\n",
            "6   49.5  15.9\n",
            "7   52.0  17.2\n",
            "8   48.9  16.6\n",
            "9   38.4  16.0\n",
            "10  87.9  18.3\n",
            "11  72.8  17.1\n",
            "12  88.4  17.4\n",
            "13  42.9  15.8\n",
            "14  52.5  17.8\n",
            "15  85.7  18.4\n",
            "16  41.3  16.5\n",
            "17  51.7  16.3\n",
            "18  89.6  18.1\n",
            "19  82.7  19.1\n",
            "20  52.3  16.0 \n",
            " 0     174.4\n",
            "1     164.4\n",
            "2     244.2\n",
            "3     154.6\n",
            "4     181.6\n",
            "5     207.5\n",
            "6     152.8\n",
            "7     163.2\n",
            "8     145.4\n",
            "9     137.2\n",
            "10    241.9\n",
            "11    191.1\n",
            "12    232.0\n",
            "13    145.3\n",
            "14    161.1\n",
            "15    209.7\n",
            "16    146.4\n",
            "17    144.0\n",
            "18    232.6\n",
            "19    224.1\n",
            "20    166.5\n",
            "Name: Y, dtype: float64\n",
            "-------------------------------------------------------------------------------------------------\n",
            "LinearRegression()\n",
            "[1.45455958 9.36550038]\n",
            "-68.85707315421942\n"
          ]
        }
      ]
    },
    {
      "cell_type": "code",
      "source": [],
      "metadata": {
        "id": "Ehalk1Eqa3uo"
      },
      "execution_count": null,
      "outputs": []
    }
  ]
}